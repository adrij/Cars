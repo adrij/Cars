{
 "cells": [
  {
   "cell_type": "markdown",
   "metadata": {},
   "source": [
    "# 3. Notebook: Multivarite Analysis"
   ]
  },
  {
   "cell_type": "markdown",
   "metadata": {},
   "source": [
    "## 0. import the packages and the dataset "
   ]
  },
  {
   "cell_type": "code",
   "execution_count": 1,
   "metadata": {
    "scrolled": true
   },
   "outputs": [],
   "source": [
    "#import the relevant libraries\n",
    "import pandas as pd\n",
    "import numpy as np\n",
    "import matplotlib.pyplot as plt\n",
    "%matplotlib inline\n",
    "import seaborn as sns\n",
    "import pickle\n",
    "from sklearn.preprocessing import StandardScaler\n",
    "\n",
    "import warnings\n",
    "warnings.filterwarnings(\"ignore\")\n",
    "import cars_functions\n",
    "##libraries for the multivariate analysis\n",
    "from sklearn.feature_selection import SelectKBest\n",
    "from sklearn.feature_selection import f_regression\n",
    "from sklearn.preprocessing import PolynomialFeatures\n",
    "from sklearn.linear_model import LinearRegression\n",
    "from sklearn.pipeline import Pipeline\n",
    "from sklearn.metrics import mean_squared_error\n",
    "from sklearn.metrics import r2_score\n",
    "from sklearn.linear_model import Lasso\n",
    "from sklearn.linear_model import Ridge\n",
    "from sklearn.model_selection import GridSearchCV\n",
    "from sklearn.tree import DecisionTreeRegressor\n",
    "from sklearn.ensemble import RandomForestRegressor\n",
    "from sklearn.ensemble import AdaBoostRegressor"
   ]
  },
  {
   "cell_type": "code",
   "execution_count": 2,
   "metadata": {
    "scrolled": true
   },
   "outputs": [
    {
     "data": {
      "text/html": [
       "<div>\n",
       "<style scoped>\n",
       "    .dataframe tbody tr th:only-of-type {\n",
       "        vertical-align: middle;\n",
       "    }\n",
       "\n",
       "    .dataframe tbody tr th {\n",
       "        vertical-align: top;\n",
       "    }\n",
       "\n",
       "    .dataframe thead th {\n",
       "        text-align: right;\n",
       "    }\n",
       "</style>\n",
       "<table border=\"1\" class=\"dataframe\">\n",
       "  <thead>\n",
       "    <tr style=\"text-align: right;\">\n",
       "      <th></th>\n",
       "      <th>Nr_Doors</th>\n",
       "      <th>Luggagerack_final</th>\n",
       "      <th>Capacity_final</th>\n",
       "      <th>Speedometer_final</th>\n",
       "      <th>WeightOwn_final</th>\n",
       "      <th>Nr_Person_gr</th>\n",
       "      <th>Rating_gr</th>\n",
       "      <th>WeightTotal_final</th>\n",
       "      <th>Flag_Guarantee</th>\n",
       "      <th>Performance_kW_final</th>\n",
       "      <th>...</th>\n",
       "      <th>LEXUS</th>\n",
       "      <th>SUBARU</th>\n",
       "      <th>LANCIA</th>\n",
       "      <th>JAGUAR</th>\n",
       "      <th>SAAB</th>\n",
       "      <th>JEEP</th>\n",
       "      <th>PORSCHE</th>\n",
       "      <th>ROVER</th>\n",
       "      <th>DAIHATSU</th>\n",
       "      <th>SSANGYONG</th>\n",
       "    </tr>\n",
       "  </thead>\n",
       "  <tbody>\n",
       "    <tr>\n",
       "      <th>0</th>\n",
       "      <td>5.0</td>\n",
       "      <td>450.0</td>\n",
       "      <td>1995.0</td>\n",
       "      <td>196624.0</td>\n",
       "      <td>1696.0</td>\n",
       "      <td>3.0</td>\n",
       "      <td>3.0</td>\n",
       "      <td>2320.0</td>\n",
       "      <td>0.0</td>\n",
       "      <td>110.0</td>\n",
       "      <td>...</td>\n",
       "      <td>0.0</td>\n",
       "      <td>0.0</td>\n",
       "      <td>0.0</td>\n",
       "      <td>0.0</td>\n",
       "      <td>0.0</td>\n",
       "      <td>0.0</td>\n",
       "      <td>0.0</td>\n",
       "      <td>0.0</td>\n",
       "      <td>0.0</td>\n",
       "      <td>0.0</td>\n",
       "    </tr>\n",
       "    <tr>\n",
       "      <th>1</th>\n",
       "      <td>5.0</td>\n",
       "      <td>280.0</td>\n",
       "      <td>1197.0</td>\n",
       "      <td>38000.0</td>\n",
       "      <td>1032.0</td>\n",
       "      <td>2.0</td>\n",
       "      <td>3.0</td>\n",
       "      <td>1620.0</td>\n",
       "      <td>0.0</td>\n",
       "      <td>66.0</td>\n",
       "      <td>...</td>\n",
       "      <td>0.0</td>\n",
       "      <td>0.0</td>\n",
       "      <td>0.0</td>\n",
       "      <td>0.0</td>\n",
       "      <td>0.0</td>\n",
       "      <td>0.0</td>\n",
       "      <td>0.0</td>\n",
       "      <td>0.0</td>\n",
       "      <td>0.0</td>\n",
       "      <td>0.0</td>\n",
       "    </tr>\n",
       "    <tr>\n",
       "      <th>2</th>\n",
       "      <td>5.0</td>\n",
       "      <td>500.0</td>\n",
       "      <td>1998.0</td>\n",
       "      <td>250000.0</td>\n",
       "      <td>1505.0</td>\n",
       "      <td>2.0</td>\n",
       "      <td>2.0</td>\n",
       "      <td>2005.0</td>\n",
       "      <td>0.0</td>\n",
       "      <td>96.0</td>\n",
       "      <td>...</td>\n",
       "      <td>0.0</td>\n",
       "      <td>0.0</td>\n",
       "      <td>0.0</td>\n",
       "      <td>0.0</td>\n",
       "      <td>0.0</td>\n",
       "      <td>0.0</td>\n",
       "      <td>0.0</td>\n",
       "      <td>0.0</td>\n",
       "      <td>0.0</td>\n",
       "      <td>0.0</td>\n",
       "    </tr>\n",
       "    <tr>\n",
       "      <th>3</th>\n",
       "      <td>5.0</td>\n",
       "      <td>560.0</td>\n",
       "      <td>1995.0</td>\n",
       "      <td>249000.0</td>\n",
       "      <td>1715.0</td>\n",
       "      <td>2.0</td>\n",
       "      <td>2.0</td>\n",
       "      <td>2365.0</td>\n",
       "      <td>0.0</td>\n",
       "      <td>135.0</td>\n",
       "      <td>...</td>\n",
       "      <td>0.0</td>\n",
       "      <td>0.0</td>\n",
       "      <td>0.0</td>\n",
       "      <td>0.0</td>\n",
       "      <td>0.0</td>\n",
       "      <td>0.0</td>\n",
       "      <td>0.0</td>\n",
       "      <td>0.0</td>\n",
       "      <td>0.0</td>\n",
       "      <td>0.0</td>\n",
       "    </tr>\n",
       "    <tr>\n",
       "      <th>4</th>\n",
       "      <td>5.0</td>\n",
       "      <td>295.0</td>\n",
       "      <td>1388.0</td>\n",
       "      <td>71000.0</td>\n",
       "      <td>1054.0</td>\n",
       "      <td>2.0</td>\n",
       "      <td>2.0</td>\n",
       "      <td>1495.0</td>\n",
       "      <td>0.0</td>\n",
       "      <td>71.0</td>\n",
       "      <td>...</td>\n",
       "      <td>0.0</td>\n",
       "      <td>0.0</td>\n",
       "      <td>0.0</td>\n",
       "      <td>0.0</td>\n",
       "      <td>0.0</td>\n",
       "      <td>0.0</td>\n",
       "      <td>0.0</td>\n",
       "      <td>0.0</td>\n",
       "      <td>0.0</td>\n",
       "      <td>0.0</td>\n",
       "    </tr>\n",
       "  </tbody>\n",
       "</table>\n",
       "<p>5 rows × 68 columns</p>\n",
       "</div>"
      ],
      "text/plain": [
       "   Nr_Doors  Luggagerack_final  Capacity_final  Speedometer_final  \\\n",
       "0       5.0              450.0          1995.0           196624.0   \n",
       "1       5.0              280.0          1197.0            38000.0   \n",
       "2       5.0              500.0          1998.0           250000.0   \n",
       "3       5.0              560.0          1995.0           249000.0   \n",
       "4       5.0              295.0          1388.0            71000.0   \n",
       "\n",
       "   WeightOwn_final  Nr_Person_gr  Rating_gr  WeightTotal_final  \\\n",
       "0           1696.0           3.0        3.0             2320.0   \n",
       "1           1032.0           2.0        3.0             1620.0   \n",
       "2           1505.0           2.0        2.0             2005.0   \n",
       "3           1715.0           2.0        2.0             2365.0   \n",
       "4           1054.0           2.0        2.0             1495.0   \n",
       "\n",
       "   Flag_Guarantee  Performance_kW_final    ...      LEXUS  SUBARU  LANCIA  \\\n",
       "0             0.0                 110.0    ...        0.0     0.0     0.0   \n",
       "1             0.0                  66.0    ...        0.0     0.0     0.0   \n",
       "2             0.0                  96.0    ...        0.0     0.0     0.0   \n",
       "3             0.0                 135.0    ...        0.0     0.0     0.0   \n",
       "4             0.0                  71.0    ...        0.0     0.0     0.0   \n",
       "\n",
       "   JAGUAR  SAAB  JEEP  PORSCHE  ROVER  DAIHATSU  SSANGYONG  \n",
       "0     0.0   0.0   0.0      0.0    0.0       0.0        0.0  \n",
       "1     0.0   0.0   0.0      0.0    0.0       0.0        0.0  \n",
       "2     0.0   0.0   0.0      0.0    0.0       0.0        0.0  \n",
       "3     0.0   0.0   0.0      0.0    0.0       0.0        0.0  \n",
       "4     0.0   0.0   0.0      0.0    0.0       0.0        0.0  \n",
       "\n",
       "[5 rows x 68 columns]"
      ]
     },
     "execution_count": 2,
     "metadata": {},
     "output_type": "execute_result"
    }
   ],
   "source": [
    "#import the dataset\n",
    "df_cars_final=pd.read_csv('data/df_cars_final.csv', index_col=0)\n",
    "df_cars_final.head()"
   ]
  },
  {
   "cell_type": "code",
   "execution_count": 3,
   "metadata": {
    "scrolled": true
   },
   "outputs": [
    {
     "data": {
      "text/html": [
       "<div>\n",
       "<style scoped>\n",
       "    .dataframe tbody tr th:only-of-type {\n",
       "        vertical-align: middle;\n",
       "    }\n",
       "\n",
       "    .dataframe tbody tr th {\n",
       "        vertical-align: top;\n",
       "    }\n",
       "\n",
       "    .dataframe thead th {\n",
       "        text-align: right;\n",
       "    }\n",
       "</style>\n",
       "<table border=\"1\" class=\"dataframe\">\n",
       "  <thead>\n",
       "    <tr style=\"text-align: right;\">\n",
       "      <th></th>\n",
       "      <th>Nr_Doors</th>\n",
       "      <th>Luggagerack_final</th>\n",
       "      <th>Capacity_final</th>\n",
       "      <th>Speedometer_final</th>\n",
       "      <th>WeightOwn_final</th>\n",
       "      <th>Nr_Person_gr</th>\n",
       "      <th>Rating_gr</th>\n",
       "      <th>WeightTotal_final</th>\n",
       "      <th>Flag_Guarantee</th>\n",
       "      <th>Performance_kW_final</th>\n",
       "      <th>...</th>\n",
       "      <th>LEXUS</th>\n",
       "      <th>SUBARU</th>\n",
       "      <th>LANCIA</th>\n",
       "      <th>JAGUAR</th>\n",
       "      <th>SAAB</th>\n",
       "      <th>JEEP</th>\n",
       "      <th>PORSCHE</th>\n",
       "      <th>ROVER</th>\n",
       "      <th>DAIHATSU</th>\n",
       "      <th>SSANGYONG</th>\n",
       "    </tr>\n",
       "  </thead>\n",
       "  <tbody>\n",
       "    <tr>\n",
       "      <th>count</th>\n",
       "      <td>84453.000000</td>\n",
       "      <td>84453.000000</td>\n",
       "      <td>84453.000000</td>\n",
       "      <td>84453.000000</td>\n",
       "      <td>84453.000000</td>\n",
       "      <td>84453.000000</td>\n",
       "      <td>84453.000000</td>\n",
       "      <td>84453.000000</td>\n",
       "      <td>84453.000000</td>\n",
       "      <td>84453.000000</td>\n",
       "      <td>...</td>\n",
       "      <td>84453.000000</td>\n",
       "      <td>84453.000000</td>\n",
       "      <td>84453.000000</td>\n",
       "      <td>84453.000000</td>\n",
       "      <td>84453.000000</td>\n",
       "      <td>84453.000000</td>\n",
       "      <td>84453.000000</td>\n",
       "      <td>84453.000000</td>\n",
       "      <td>84453.000000</td>\n",
       "      <td>84453.000000</td>\n",
       "    </tr>\n",
       "    <tr>\n",
       "      <th>mean</th>\n",
       "      <td>4.512924</td>\n",
       "      <td>491.304074</td>\n",
       "      <td>1829.889809</td>\n",
       "      <td>166804.909038</td>\n",
       "      <td>1370.665708</td>\n",
       "      <td>1.990444</td>\n",
       "      <td>2.308929</td>\n",
       "      <td>1910.575646</td>\n",
       "      <td>0.023066</td>\n",
       "      <td>93.329142</td>\n",
       "      <td>...</td>\n",
       "      <td>0.003386</td>\n",
       "      <td>0.003197</td>\n",
       "      <td>0.003126</td>\n",
       "      <td>0.002842</td>\n",
       "      <td>0.002771</td>\n",
       "      <td>0.002273</td>\n",
       "      <td>0.001516</td>\n",
       "      <td>0.001492</td>\n",
       "      <td>0.001409</td>\n",
       "      <td>0.001255</td>\n",
       "    </tr>\n",
       "    <tr>\n",
       "      <th>std</th>\n",
       "      <td>0.825280</td>\n",
       "      <td>673.930694</td>\n",
       "      <td>572.417974</td>\n",
       "      <td>93560.776816</td>\n",
       "      <td>307.451863</td>\n",
       "      <td>0.395459</td>\n",
       "      <td>0.482194</td>\n",
       "      <td>371.721586</td>\n",
       "      <td>0.150114</td>\n",
       "      <td>40.351725</td>\n",
       "      <td>...</td>\n",
       "      <td>0.058095</td>\n",
       "      <td>0.056452</td>\n",
       "      <td>0.055824</td>\n",
       "      <td>0.053233</td>\n",
       "      <td>0.052565</td>\n",
       "      <td>0.047627</td>\n",
       "      <td>0.038902</td>\n",
       "      <td>0.038597</td>\n",
       "      <td>0.037511</td>\n",
       "      <td>0.035406</td>\n",
       "    </tr>\n",
       "    <tr>\n",
       "      <th>min</th>\n",
       "      <td>2.000000</td>\n",
       "      <td>2.000000</td>\n",
       "      <td>1.000000</td>\n",
       "      <td>1.000000</td>\n",
       "      <td>80.000000</td>\n",
       "      <td>1.000000</td>\n",
       "      <td>1.000000</td>\n",
       "      <td>1.000000</td>\n",
       "      <td>0.000000</td>\n",
       "      <td>1.000000</td>\n",
       "      <td>...</td>\n",
       "      <td>0.000000</td>\n",
       "      <td>0.000000</td>\n",
       "      <td>0.000000</td>\n",
       "      <td>0.000000</td>\n",
       "      <td>0.000000</td>\n",
       "      <td>0.000000</td>\n",
       "      <td>0.000000</td>\n",
       "      <td>0.000000</td>\n",
       "      <td>0.000000</td>\n",
       "      <td>0.000000</td>\n",
       "    </tr>\n",
       "    <tr>\n",
       "      <th>25%</th>\n",
       "      <td>4.000000</td>\n",
       "      <td>320.000000</td>\n",
       "      <td>1399.000000</td>\n",
       "      <td>107668.000000</td>\n",
       "      <td>1155.000000</td>\n",
       "      <td>2.000000</td>\n",
       "      <td>2.000000</td>\n",
       "      <td>1650.000000</td>\n",
       "      <td>0.000000</td>\n",
       "      <td>66.000000</td>\n",
       "      <td>...</td>\n",
       "      <td>0.000000</td>\n",
       "      <td>0.000000</td>\n",
       "      <td>0.000000</td>\n",
       "      <td>0.000000</td>\n",
       "      <td>0.000000</td>\n",
       "      <td>0.000000</td>\n",
       "      <td>0.000000</td>\n",
       "      <td>0.000000</td>\n",
       "      <td>0.000000</td>\n",
       "      <td>0.000000</td>\n",
       "    </tr>\n",
       "    <tr>\n",
       "      <th>50%</th>\n",
       "      <td>5.000000</td>\n",
       "      <td>435.000000</td>\n",
       "      <td>1781.000000</td>\n",
       "      <td>169000.000000</td>\n",
       "      <td>1350.000000</td>\n",
       "      <td>2.000000</td>\n",
       "      <td>2.000000</td>\n",
       "      <td>1883.000000</td>\n",
       "      <td>0.000000</td>\n",
       "      <td>85.000000</td>\n",
       "      <td>...</td>\n",
       "      <td>0.000000</td>\n",
       "      <td>0.000000</td>\n",
       "      <td>0.000000</td>\n",
       "      <td>0.000000</td>\n",
       "      <td>0.000000</td>\n",
       "      <td>0.000000</td>\n",
       "      <td>0.000000</td>\n",
       "      <td>0.000000</td>\n",
       "      <td>0.000000</td>\n",
       "      <td>0.000000</td>\n",
       "    </tr>\n",
       "    <tr>\n",
       "      <th>75%</th>\n",
       "      <td>5.000000</td>\n",
       "      <td>505.000000</td>\n",
       "      <td>1997.000000</td>\n",
       "      <td>224000.000000</td>\n",
       "      <td>1550.000000</td>\n",
       "      <td>2.000000</td>\n",
       "      <td>3.000000</td>\n",
       "      <td>2120.000000</td>\n",
       "      <td>0.000000</td>\n",
       "      <td>110.000000</td>\n",
       "      <td>...</td>\n",
       "      <td>0.000000</td>\n",
       "      <td>0.000000</td>\n",
       "      <td>0.000000</td>\n",
       "      <td>0.000000</td>\n",
       "      <td>0.000000</td>\n",
       "      <td>0.000000</td>\n",
       "      <td>0.000000</td>\n",
       "      <td>0.000000</td>\n",
       "      <td>0.000000</td>\n",
       "      <td>0.000000</td>\n",
       "    </tr>\n",
       "    <tr>\n",
       "      <th>max</th>\n",
       "      <td>5.000000</td>\n",
       "      <td>11500.000000</td>\n",
       "      <td>5000.000000</td>\n",
       "      <td>700000.000000</td>\n",
       "      <td>2800.000000</td>\n",
       "      <td>3.000000</td>\n",
       "      <td>3.000000</td>\n",
       "      <td>3500.000000</td>\n",
       "      <td>1.000000</td>\n",
       "      <td>400.000000</td>\n",
       "      <td>...</td>\n",
       "      <td>1.000000</td>\n",
       "      <td>1.000000</td>\n",
       "      <td>1.000000</td>\n",
       "      <td>1.000000</td>\n",
       "      <td>1.000000</td>\n",
       "      <td>1.000000</td>\n",
       "      <td>1.000000</td>\n",
       "      <td>1.000000</td>\n",
       "      <td>1.000000</td>\n",
       "      <td>1.000000</td>\n",
       "    </tr>\n",
       "  </tbody>\n",
       "</table>\n",
       "<p>8 rows × 68 columns</p>\n",
       "</div>"
      ],
      "text/plain": [
       "           Nr_Doors  Luggagerack_final  Capacity_final  Speedometer_final  \\\n",
       "count  84453.000000       84453.000000    84453.000000       84453.000000   \n",
       "mean       4.512924         491.304074     1829.889809      166804.909038   \n",
       "std        0.825280         673.930694      572.417974       93560.776816   \n",
       "min        2.000000           2.000000        1.000000           1.000000   \n",
       "25%        4.000000         320.000000     1399.000000      107668.000000   \n",
       "50%        5.000000         435.000000     1781.000000      169000.000000   \n",
       "75%        5.000000         505.000000     1997.000000      224000.000000   \n",
       "max        5.000000       11500.000000     5000.000000      700000.000000   \n",
       "\n",
       "       WeightOwn_final  Nr_Person_gr     Rating_gr  WeightTotal_final  \\\n",
       "count     84453.000000  84453.000000  84453.000000       84453.000000   \n",
       "mean       1370.665708      1.990444      2.308929        1910.575646   \n",
       "std         307.451863      0.395459      0.482194         371.721586   \n",
       "min          80.000000      1.000000      1.000000           1.000000   \n",
       "25%        1155.000000      2.000000      2.000000        1650.000000   \n",
       "50%        1350.000000      2.000000      2.000000        1883.000000   \n",
       "75%        1550.000000      2.000000      3.000000        2120.000000   \n",
       "max        2800.000000      3.000000      3.000000        3500.000000   \n",
       "\n",
       "       Flag_Guarantee  Performance_kW_final      ...              LEXUS  \\\n",
       "count    84453.000000          84453.000000      ...       84453.000000   \n",
       "mean         0.023066             93.329142      ...           0.003386   \n",
       "std          0.150114             40.351725      ...           0.058095   \n",
       "min          0.000000              1.000000      ...           0.000000   \n",
       "25%          0.000000             66.000000      ...           0.000000   \n",
       "50%          0.000000             85.000000      ...           0.000000   \n",
       "75%          0.000000            110.000000      ...           0.000000   \n",
       "max          1.000000            400.000000      ...           1.000000   \n",
       "\n",
       "             SUBARU        LANCIA        JAGUAR          SAAB          JEEP  \\\n",
       "count  84453.000000  84453.000000  84453.000000  84453.000000  84453.000000   \n",
       "mean       0.003197      0.003126      0.002842      0.002771      0.002273   \n",
       "std        0.056452      0.055824      0.053233      0.052565      0.047627   \n",
       "min        0.000000      0.000000      0.000000      0.000000      0.000000   \n",
       "25%        0.000000      0.000000      0.000000      0.000000      0.000000   \n",
       "50%        0.000000      0.000000      0.000000      0.000000      0.000000   \n",
       "75%        0.000000      0.000000      0.000000      0.000000      0.000000   \n",
       "max        1.000000      1.000000      1.000000      1.000000      1.000000   \n",
       "\n",
       "            PORSCHE         ROVER      DAIHATSU     SSANGYONG  \n",
       "count  84453.000000  84453.000000  84453.000000  84453.000000  \n",
       "mean       0.001516      0.001492      0.001409      0.001255  \n",
       "std        0.038902      0.038597      0.037511      0.035406  \n",
       "min        0.000000      0.000000      0.000000      0.000000  \n",
       "25%        0.000000      0.000000      0.000000      0.000000  \n",
       "50%        0.000000      0.000000      0.000000      0.000000  \n",
       "75%        0.000000      0.000000      0.000000      0.000000  \n",
       "max        1.000000      1.000000      1.000000      1.000000  \n",
       "\n",
       "[8 rows x 68 columns]"
      ]
     },
     "execution_count": 3,
     "metadata": {},
     "output_type": "execute_result"
    }
   ],
   "source": [
    "#check the dataset\n",
    "df_cars_final.describe()"
   ]
  },
  {
   "cell_type": "markdown",
   "metadata": {},
   "source": [
    "## 1. Check the correlation"
   ]
  },
  {
   "cell_type": "code",
   "execution_count": 4,
   "metadata": {
    "scrolled": false
   },
   "outputs": [
    {
     "data": {
      "text/plain": [
       "<matplotlib.axes._subplots.AxesSubplot at 0x1a1a008ef0>"
      ]
     },
     "execution_count": 4,
     "metadata": {},
     "output_type": "execute_result"
    },
    {
     "data": {
      "image/png": "[encoded data removed]",
      "text/plain": [
       "<Figure size 1152x576 with 2 Axes>"
      ]
     },
     "metadata": {
      "needs_background": "light"
     },
     "output_type": "display_data"
    }
   ],
   "source": [
    "#heatmap for the correlation\n",
    "#without the producers\n",
    "\n",
    "df_cars_final_temp=df_cars_final.iloc[:,:28]\n",
    "df_cars_final_temp.head()\n",
    "df_corr=df_cars_final_temp.corr()\n",
    "plt.figure(figsize=(16,8))\n",
    "sns.heatmap(df_corr, cmap='RdBu')\n",
    "#plt.savefig('pictures/correlation_heatmap')\n"
   ]
  },
  {
   "cell_type": "code",
   "execution_count": 5,
   "metadata": {
    "scrolled": true
   },
   "outputs": [
    {
     "data": {
      "text/plain": [
       "Index(['Nr_Doors', 'Luggagerack_final', 'Capacity_final', 'Speedometer_final',\n",
       "       'Nr_Person_gr', 'Rating_gr', 'WeightTotal_final', 'Flag_Guarantee',\n",
       "       'Performance_kW_final', 'Age_year_final', 'Flag_back_w', 'Flag_diesel',\n",
       "       'Flag_electro', 'A', 'B', 'C', 'D', 'E', 'F', 'S', 'SUV', 'Price_avg',\n",
       "       'PriceEUR', 'OPEL', 'VOLKSWAGEN', 'BMW', 'FORD', 'MERCEDES-BENZ',\n",
       "       'AUDI', 'RENAULT', 'TOYOTA', 'SKODA', 'PEUGEOT', 'MAZDA', 'SUZUKI',\n",
       "       'FIAT', 'CITROEN', 'NISSAN', 'HONDA', 'VOLVO', 'SEAT', 'HYUNDAI', 'KIA',\n",
       "       'MITSUBISHI', 'ALFA ROMEO', 'CHEVROLET', 'DAEWOO', 'DACIA', 'CHRYSLER',\n",
       "       'SMART', 'LADA', 'LAND ROVER', 'MINI', 'LEXUS', 'SUBARU', 'LANCIA',\n",
       "       'JAGUAR', 'SAAB', 'JEEP', 'PORSCHE', 'ROVER', 'DAIHATSU', 'SSANGYONG'],\n",
       "      dtype='object')"
      ]
     },
     "execution_count": 5,
     "metadata": {},
     "output_type": "execute_result"
    }
   ],
   "source": [
    "#there is large correlation between the Performance features - we need to drop one - drop Performance_LE_final\n",
    "#there is large correlation between the Pweight variables - we need to drop one - drop WeightOwn\n",
    "#large negativ correlation between flag_diesel and flag_benzin - drop flag_benzin\n",
    "#large negativ correlation between flag_first_w and flag_back_w - drop flag_first_w\n",
    "#drop the Age and keep the Age in years variable\n",
    "\n",
    "df_cars_final=df_cars_final.drop(['Performance_LE_final', 'WeightOwn_final', 'Flag_benzin', 'Age_final', 'Flag_first_w'], axis=1)\n",
    "\n",
    "df_cars_final.columns\n"
   ]
  },
  {
   "cell_type": "markdown",
   "metadata": {},
   "source": [
    "## 2. Scale and split the dataset"
   ]
  },
  {
   "cell_type": "markdown",
   "metadata": {},
   "source": [
    "### 2.1 Create the feature matrix and the target variable"
   ]
  },
  {
   "cell_type": "code",
   "execution_count": 6,
   "metadata": {
    "scrolled": true
   },
   "outputs": [
    {
     "data": {
      "text/html": [
       "<div>\n",
       "<style scoped>\n",
       "    .dataframe tbody tr th:only-of-type {\n",
       "        vertical-align: middle;\n",
       "    }\n",
       "\n",
       "    .dataframe tbody tr th {\n",
       "        vertical-align: top;\n",
       "    }\n",
       "\n",
       "    .dataframe thead th {\n",
       "        text-align: right;\n",
       "    }\n",
       "</style>\n",
       "<table border=\"1\" class=\"dataframe\">\n",
       "  <thead>\n",
       "    <tr style=\"text-align: right;\">\n",
       "      <th></th>\n",
       "      <th>Nr_Doors</th>\n",
       "      <th>Luggagerack_final</th>\n",
       "      <th>Capacity_final</th>\n",
       "      <th>Speedometer_final</th>\n",
       "      <th>Nr_Person_gr</th>\n",
       "      <th>Rating_gr</th>\n",
       "      <th>WeightTotal_final</th>\n",
       "      <th>Flag_Guarantee</th>\n",
       "      <th>Performance_kW_final</th>\n",
       "      <th>Age_year_final</th>\n",
       "      <th>...</th>\n",
       "      <th>LEXUS</th>\n",
       "      <th>SUBARU</th>\n",
       "      <th>LANCIA</th>\n",
       "      <th>JAGUAR</th>\n",
       "      <th>SAAB</th>\n",
       "      <th>JEEP</th>\n",
       "      <th>PORSCHE</th>\n",
       "      <th>ROVER</th>\n",
       "      <th>DAIHATSU</th>\n",
       "      <th>SSANGYONG</th>\n",
       "    </tr>\n",
       "  </thead>\n",
       "  <tbody>\n",
       "    <tr>\n",
       "      <th>0</th>\n",
       "      <td>5.0</td>\n",
       "      <td>450.0</td>\n",
       "      <td>1995.0</td>\n",
       "      <td>196624.0</td>\n",
       "      <td>3.0</td>\n",
       "      <td>3.0</td>\n",
       "      <td>2320.0</td>\n",
       "      <td>0.0</td>\n",
       "      <td>110.0</td>\n",
       "      <td>11.0</td>\n",
       "      <td>...</td>\n",
       "      <td>0.0</td>\n",
       "      <td>0.0</td>\n",
       "      <td>0.0</td>\n",
       "      <td>0.0</td>\n",
       "      <td>0.0</td>\n",
       "      <td>0.0</td>\n",
       "      <td>0.0</td>\n",
       "      <td>0.0</td>\n",
       "      <td>0.0</td>\n",
       "      <td>0.0</td>\n",
       "    </tr>\n",
       "    <tr>\n",
       "      <th>1</th>\n",
       "      <td>5.0</td>\n",
       "      <td>280.0</td>\n",
       "      <td>1197.0</td>\n",
       "      <td>38000.0</td>\n",
       "      <td>2.0</td>\n",
       "      <td>3.0</td>\n",
       "      <td>1620.0</td>\n",
       "      <td>0.0</td>\n",
       "      <td>66.0</td>\n",
       "      <td>5.0</td>\n",
       "      <td>...</td>\n",
       "      <td>0.0</td>\n",
       "      <td>0.0</td>\n",
       "      <td>0.0</td>\n",
       "      <td>0.0</td>\n",
       "      <td>0.0</td>\n",
       "      <td>0.0</td>\n",
       "      <td>0.0</td>\n",
       "      <td>0.0</td>\n",
       "      <td>0.0</td>\n",
       "      <td>0.0</td>\n",
       "    </tr>\n",
       "    <tr>\n",
       "      <th>2</th>\n",
       "      <td>5.0</td>\n",
       "      <td>500.0</td>\n",
       "      <td>1998.0</td>\n",
       "      <td>250000.0</td>\n",
       "      <td>2.0</td>\n",
       "      <td>2.0</td>\n",
       "      <td>2005.0</td>\n",
       "      <td>0.0</td>\n",
       "      <td>96.0</td>\n",
       "      <td>11.0</td>\n",
       "      <td>...</td>\n",
       "      <td>0.0</td>\n",
       "      <td>0.0</td>\n",
       "      <td>0.0</td>\n",
       "      <td>0.0</td>\n",
       "      <td>0.0</td>\n",
       "      <td>0.0</td>\n",
       "      <td>0.0</td>\n",
       "      <td>0.0</td>\n",
       "      <td>0.0</td>\n",
       "      <td>0.0</td>\n",
       "    </tr>\n",
       "    <tr>\n",
       "      <th>3</th>\n",
       "      <td>5.0</td>\n",
       "      <td>560.0</td>\n",
       "      <td>1995.0</td>\n",
       "      <td>249000.0</td>\n",
       "      <td>2.0</td>\n",
       "      <td>2.0</td>\n",
       "      <td>2365.0</td>\n",
       "      <td>0.0</td>\n",
       "      <td>135.0</td>\n",
       "      <td>8.0</td>\n",
       "      <td>...</td>\n",
       "      <td>0.0</td>\n",
       "      <td>0.0</td>\n",
       "      <td>0.0</td>\n",
       "      <td>0.0</td>\n",
       "      <td>0.0</td>\n",
       "      <td>0.0</td>\n",
       "      <td>0.0</td>\n",
       "      <td>0.0</td>\n",
       "      <td>0.0</td>\n",
       "      <td>0.0</td>\n",
       "    </tr>\n",
       "    <tr>\n",
       "      <th>4</th>\n",
       "      <td>5.0</td>\n",
       "      <td>295.0</td>\n",
       "      <td>1388.0</td>\n",
       "      <td>71000.0</td>\n",
       "      <td>2.0</td>\n",
       "      <td>2.0</td>\n",
       "      <td>1495.0</td>\n",
       "      <td>0.0</td>\n",
       "      <td>71.0</td>\n",
       "      <td>8.0</td>\n",
       "      <td>...</td>\n",
       "      <td>0.0</td>\n",
       "      <td>0.0</td>\n",
       "      <td>0.0</td>\n",
       "      <td>0.0</td>\n",
       "      <td>0.0</td>\n",
       "      <td>0.0</td>\n",
       "      <td>0.0</td>\n",
       "      <td>0.0</td>\n",
       "      <td>0.0</td>\n",
       "      <td>0.0</td>\n",
       "    </tr>\n",
       "  </tbody>\n",
       "</table>\n",
       "<p>5 rows × 62 columns</p>\n",
       "</div>"
      ],
      "text/plain": [
       "   Nr_Doors  Luggagerack_final  Capacity_final  Speedometer_final  \\\n",
       "0       5.0              450.0          1995.0           196624.0   \n",
       "1       5.0              280.0          1197.0            38000.0   \n",
       "2       5.0              500.0          1998.0           250000.0   \n",
       "3       5.0              560.0          1995.0           249000.0   \n",
       "4       5.0              295.0          1388.0            71000.0   \n",
       "\n",
       "   Nr_Person_gr  Rating_gr  WeightTotal_final  Flag_Guarantee  \\\n",
       "0           3.0        3.0             2320.0             0.0   \n",
       "1           2.0        3.0             1620.0             0.0   \n",
       "2           2.0        2.0             2005.0             0.0   \n",
       "3           2.0        2.0             2365.0             0.0   \n",
       "4           2.0        2.0             1495.0             0.0   \n",
       "\n",
       "   Performance_kW_final  Age_year_final    ...      LEXUS  SUBARU  LANCIA  \\\n",
       "0                 110.0            11.0    ...        0.0     0.0     0.0   \n",
       "1                  66.0             5.0    ...        0.0     0.0     0.0   \n",
       "2                  96.0            11.0    ...        0.0     0.0     0.0   \n",
       "3                 135.0             8.0    ...        0.0     0.0     0.0   \n",
       "4                  71.0             8.0    ...        0.0     0.0     0.0   \n",
       "\n",
       "   JAGUAR  SAAB  JEEP  PORSCHE  ROVER  DAIHATSU  SSANGYONG  \n",
       "0     0.0   0.0   0.0      0.0    0.0       0.0        0.0  \n",
       "1     0.0   0.0   0.0      0.0    0.0       0.0        0.0  \n",
       "2     0.0   0.0   0.0      0.0    0.0       0.0        0.0  \n",
       "3     0.0   0.0   0.0      0.0    0.0       0.0        0.0  \n",
       "4     0.0   0.0   0.0      0.0    0.0       0.0        0.0  \n",
       "\n",
       "[5 rows x 62 columns]"
      ]
     },
     "execution_count": 6,
     "metadata": {},
     "output_type": "execute_result"
    }
   ],
   "source": [
    "y=df_cars_final['PriceEUR']\n",
    "X=df_cars_final.drop(['PriceEUR'], axis=1)\n",
    "\n",
    "X.head()"
   ]
  },
  {
   "cell_type": "markdown",
   "metadata": {},
   "source": [
    "### 2.2 Scale the feature matrix"
   ]
  },
  {
   "cell_type": "code",
   "execution_count": 7,
   "metadata": {
    "scrolled": true
   },
   "outputs": [],
   "source": [
    "#scale the dataset: the variables have different scales \n",
    "\n",
    "std_scaler = StandardScaler()\n",
    "X_scaled = std_scaler.fit_transform(X)"
   ]
  },
  {
   "cell_type": "markdown",
   "metadata": {},
   "source": [
    "### 2.3 Split the data"
   ]
  },
  {
   "cell_type": "code",
   "execution_count": 8,
   "metadata": {
    "scrolled": true
   },
   "outputs": [],
   "source": [
    "from sklearn.model_selection import train_test_split\n",
    "X_train, X_test, y_train, y_test = train_test_split(X_scaled, y,test_size=0.3,random_state=0)"
   ]
  },
  {
   "cell_type": "code",
   "execution_count": 9,
   "metadata": {
    "scrolled": true
   },
   "outputs": [
    {
     "data": {
      "text/plain": [
       "count    59117.000000\n",
       "mean      7976.199131\n",
       "std       8269.663039\n",
       "min        153.000000\n",
       "25%       2517.000000\n",
       "50%       4875.000000\n",
       "75%      10356.000000\n",
       "max      63805.000000\n",
       "Name: PriceEUR, dtype: float64"
      ]
     },
     "execution_count": 9,
     "metadata": {},
     "output_type": "execute_result"
    }
   ],
   "source": [
    "#check the distribution of the training and test target variable\n",
    "y_train.describe()"
   ]
  },
  {
   "cell_type": "code",
   "execution_count": 10,
   "metadata": {
    "scrolled": true
   },
   "outputs": [
    {
     "data": {
      "text/plain": [
       "count    25336.000000\n",
       "mean      8085.608699\n",
       "std       8392.190535\n",
       "min        156.000000\n",
       "25%       2546.000000\n",
       "50%       5034.000000\n",
       "75%      10298.250000\n",
       "max      63727.000000\n",
       "Name: PriceEUR, dtype: float64"
      ]
     },
     "execution_count": 10,
     "metadata": {},
     "output_type": "execute_result"
    }
   ],
   "source": [
    "y_test.describe()"
   ]
  },
  {
   "cell_type": "markdown",
   "metadata": {},
   "source": [
    "## 3. Multivariate analysis"
   ]
  },
  {
   "cell_type": "markdown",
   "metadata": {},
   "source": [
    "### 3.1 Linear Regression"
   ]
  },
  {
   "cell_type": "code",
   "execution_count": 11,
   "metadata": {
    "scrolled": true
   },
   "outputs": [
    {
     "name": "stdout",
     "output_type": "stream",
     "text": [
      "\n",
      "==================================================================================\n",
      "Testing LinearRegression\n",
      "Learing time 0.27608704566955566s\n",
      "Predicting time 0.00853109359741211s\n",
      "=================================== Results Training set======================================\n",
      "         bias\n",
      "MSE       15273207.890422035\n",
      "R2        0.7766623295507098\n",
      "=================================== Results Testing set======================================\n",
      "         bias\n",
      "MSE       15755171.007584488\n",
      "R2        0.7762878393933721\n",
      "===================================================================================\n"
     ]
    },
    {
     "data": {
      "text/plain": [
       "LinearRegression(copy_X=True, fit_intercept=True, n_jobs=None,\n",
       "         normalize=False)"
      ]
     },
     "execution_count": 11,
     "metadata": {},
     "output_type": "execute_result"
    }
   ],
   "source": [
    "lr=LinearRegression()\n",
    "cars_functions.test_classifier(X_train, y_train, X_test, y_test, lr)"
   ]
  },
  {
   "cell_type": "markdown",
   "metadata": {},
   "source": [
    "### 3.2 Linear regression  with SelectKBest"
   ]
  },
  {
   "cell_type": "code",
   "execution_count": 12,
   "metadata": {
    "scrolled": true
   },
   "outputs": [
    {
     "data": {
      "image/png": "[encoded data removed]",
      "text/plain": [
       "<Figure size 1080x432 with 1 Axes>"
      ]
     },
     "metadata": {
      "needs_background": "light"
     },
     "output_type": "display_data"
    }
   ],
   "source": [
    "#check the number of features - if I don't include all the feature, how does the model perform?\n",
    "#after 15 features it makes not so much difference, if I involve more\n",
    "training_error=[]\n",
    "test_error=[]\n",
    "training_score=[]\n",
    "test_score=[]\n",
    "n_col=len(X.columns)\n",
    "\n",
    "vals=np.arange(1,n_col+1)\n",
    "for k in vals:\n",
    "    pip=Pipeline([('sel', SelectKBest(f_regression, k)), ('lr', LinearRegression())])\n",
    "    pip.fit(X_train, y_train)\n",
    "    test_error.append(mean_squared_error(pip.predict(X_test), y_test))\n",
    "    training_error.append(mean_squared_error(pip.predict(X_train), y_train))\n",
    "    test_score.append(r2_score(pip.predict(X_test), y_test))\n",
    "    training_score.append(r2_score(pip.predict(X_train), y_train))\n",
    "    \n",
    "fig, ax=plt.subplots(figsize=(15,6))\n",
    "ax.plot(vals, training_score, label='Training score')\n",
    "ax.plot(vals, test_score,'--', label='Test score')\n",
    "\n",
    "plt.ylabel('R2 score')\n",
    "plt.xlabel('Number of features')\n",
    "plt.legend(loc='best')\n",
    "plt.title('R2 score of linear regression depending on the number of features')\n",
    "plt.savefig('pictures/select_k_linreg')"
   ]
  },
  {
   "cell_type": "markdown",
   "metadata": {
    "collapsed": true
   },
   "source": [
    "### 3.3 Linear Regression with polinomial features"
   ]
  },
  {
   "cell_type": "code",
   "execution_count": 13,
   "metadata": {
    "scrolled": true
   },
   "outputs": [],
   "source": [
    "#Build a pipeline for polynomial fitting, fit polynomials of degree 1 to the number of features, \n",
    "#and plot your training and testing errors for each\n",
    "degrees=4\n",
    "\n",
    "poly_training_error=[]\n",
    "poly_test_error=[]\n",
    "poly_training_r2=[]\n",
    "poly_test_r2=[]\n",
    "for d in np.arange(1,degrees):\n",
    "    pip=Pipeline([('sel', SelectKBest(f_regression, 20)), ('poly', PolynomialFeatures(degree=d)), ('lr', LinearRegression())])\n",
    "    pip.fit(X_train, y_train)\n",
    "    poly_test_error.append(mean_squared_error(pip.predict(X_test), y_test))\n",
    "    poly_training_error.append(mean_squared_error(pip.predict(X_train), y_train))\n",
    "    poly_test_r2.append(r2_score(pip.predict(X_test), y_test))\n",
    "    poly_training_r2.append(r2_score(pip.predict(X_train), y_train))"
   ]
  },
  {
   "cell_type": "code",
   "execution_count": 14,
   "metadata": {
    "scrolled": true
   },
   "outputs": [
    {
     "data": {
      "image/png": "[encoded data removed]",
      "text/plain": [
       "<Figure size 432x288 with 1 Axes>"
      ]
     },
     "metadata": {
      "needs_background": "light"
     },
     "output_type": "display_data"
    }
   ],
   "source": [
    "fig, ax=plt.subplots()\n",
    "\n",
    "plt.scatter(np.arange(1,degrees), poly_training_r2,c='b', label='Training error')\n",
    "plt.scatter(np.arange(1,degrees), poly_test_r2,c='g', label='Test error')\n",
    "plt.legend(loc='upper left')\n",
    "plt.ylabel('R2 score')\n",
    "plt.xlabel('Degree of polynomial regression')\n",
    "plt.title('R2 score of polynomial regression with the 20 best features')\n",
    "plt.savefig('pictures/select_k_linreg_poli20')"
   ]
  },
  {
   "cell_type": "markdown",
   "metadata": {},
   "source": [
    "The plot show, the with 2 degree we could improve our model, but with 3-degree polynomials there is a significant overfitting in the model. The R2 of the test set is very low compared to the training set - the model can't generalize well. "
   ]
  },
  {
   "cell_type": "markdown",
   "metadata": {
    "collapsed": true
   },
   "source": [
    "### 3.4 Ridge regression with parameter tuning"
   ]
  },
  {
   "cell_type": "code",
   "execution_count": 15,
   "metadata": {
    "scrolled": true
   },
   "outputs": [],
   "source": [
    "#I tried different alphas by the Ridge regression\n",
    "\n",
    "ridge = Ridge(random_state=0)\n",
    "alphas=[10**i for i in range(-7,6)]\n",
    "\n",
    "parameters = [{'alpha': alphas}]\n",
    "\n",
    "clf = GridSearchCV(ridge, parameters, cv=3)\n",
    "clf.fit(X_train, y_train)\n",
    "\n",
    "scores_ridge = clf.cv_results_['mean_test_score']\n",
    "std_error_ridge = clf.cv_results_['std_test_score']"
   ]
  },
  {
   "cell_type": "code",
   "execution_count": 16,
   "metadata": {
    "scrolled": true
   },
   "outputs": [
    {
     "data": {
      "text/plain": [
       "array([0.77584586, 0.77584586, 0.77584586, 0.77584586, 0.77584586,\n",
       "       0.77584586, 0.77584588, 0.77584599, 0.77584667, 0.77583242,\n",
       "       0.77528563, 0.76206405, 0.58797823])"
      ]
     },
     "execution_count": 16,
     "metadata": {},
     "output_type": "execute_result"
    }
   ],
   "source": [
    "clf.cv_results_['mean_test_score']"
   ]
  },
  {
   "cell_type": "code",
   "execution_count": 17,
   "metadata": {
    "scrolled": true
   },
   "outputs": [
    {
     "data": {
      "image/png": "[encoded data removed]",
      "text/plain": [
       "<Figure size 720x288 with 1 Axes>"
      ]
     },
     "metadata": {
      "needs_background": "light"
     },
     "output_type": "display_data"
    }
   ],
   "source": [
    "#The performance of the model is very similar for each alpha between 10**-7 and 10**3, afterwards it starts to decrease\n",
    "fig, ax= plt.subplots(figsize=(10,4))\n",
    "ind=range(len(alphas))\n",
    "plt.plot(ind, scores_ridge)\n",
    "\n",
    "# plot error lines showing +/- std. errors of the scores\n",
    "\n",
    "plt.plot(ind, scores_ridge + std_error_ridge, 'b--')\n",
    "plt.plot(ind, scores_ridge - std_error_ridge, 'b--')\n",
    "\n",
    "plt.fill_between(ind, scores_ridge + std_error_ridge, scores_ridge - std_error_ridge, alpha=0.2)\n",
    "\n",
    "plt.ylabel('CV score +/- std error')\n",
    "plt.xlabel('alpha')\n",
    "plt.title('Ridge Regression')\n",
    "plt.xticks(ind, alphas)\n",
    "plt.show()"
   ]
  },
  {
   "cell_type": "markdown",
   "metadata": {
    "collapsed": true
   },
   "source": [
    "### 3.5 Lasso regression with parameter tuning"
   ]
  },
  {
   "cell_type": "code",
   "execution_count": 18,
   "metadata": {
    "scrolled": true
   },
   "outputs": [],
   "source": [
    "lasso = Lasso(random_state=0)\n",
    "alphas=[10**i for i in range(-7,6)]\n",
    "\n",
    "parameters = [{'alpha': alphas}]\n",
    "\n",
    "clf = GridSearchCV(lasso, parameters, cv=3)\n",
    "clf.fit(X_train, y_train)\n",
    "\n",
    "scores_lasso = clf.cv_results_['mean_test_score']\n",
    "std_error_lasso = clf.cv_results_['std_test_score']"
   ]
  },
  {
   "cell_type": "code",
   "execution_count": 19,
   "metadata": {
    "scrolled": true
   },
   "outputs": [
    {
     "data": {
      "image/png": "[encoded data removed]",
      "text/plain": [
       "<Figure size 576x216 with 1 Axes>"
      ]
     },
     "metadata": {
      "needs_background": "light"
     },
     "output_type": "display_data"
    }
   ],
   "source": [
    "fig, ax= plt.subplots(figsize=(8,3))\n",
    "ind=range(len(alphas))\n",
    "plt.plot(ind, scores_lasso)\n",
    "\n",
    "# plot error lines showing +/- std. errors of the scores\n",
    "\n",
    "plt.plot(ind, scores_lasso + std_error_lasso, 'b--')\n",
    "plt.plot(ind, scores_lasso - std_error_lasso, 'b--')\n",
    "\n",
    "plt.fill_between(ind, scores_lasso + std_error_lasso, scores_lasso - std_error_lasso, alpha=0.2)\n",
    "plt.xticks(ind, alphas)\n",
    "\n",
    "plt.ylabel('CV score +/- std error')\n",
    "plt.xlabel('alpha')\n",
    "plt.title('Lasso Regression')\n",
    "ax.set_xticklabels(alphas)\n",
    "plt.show()"
   ]
  },
  {
   "cell_type": "markdown",
   "metadata": {},
   "source": [
    "The lasso and ridge regressions have very similar performance.\n",
    "The performance of the model is doesn't change significantly for alphas between 10**-7 and 10**3, afterwards it starts to decrease.\n"
   ]
  },
  {
   "cell_type": "markdown",
   "metadata": {
    "collapsed": true
   },
   "source": [
    "### 3.6 Decision Tree Regressor with parameter tuning"
   ]
  },
  {
   "cell_type": "code",
   "execution_count": 20,
   "metadata": {
    "scrolled": true
   },
   "outputs": [],
   "source": [
    "#all together there are 65 features. \n",
    "params={\"max_features\":[\"auto\",\"sqrt\",\"log2\"], \"min_samples_split\":[50, 80,100], \"max_depth\":[5,8, 10],\"min_samples_leaf\":[30, 50,80]}\n",
    "\n",
    "dtree=DecisionTreeRegressor(random_state=0)\n",
    "\n",
    "clf = GridSearchCV(dtree, params, cv=3)\n",
    "clf.fit(X_train, y_train)\n",
    "\n",
    "scores_tree = clf.cv_results_['mean_test_score']\n",
    "scores_tree_std = clf.cv_results_['std_test_score']"
   ]
  },
  {
   "cell_type": "code",
   "execution_count": 21,
   "metadata": {
    "scrolled": true
   },
   "outputs": [
    {
     "name": "stdout",
     "output_type": "stream",
     "text": [
      "Best parameter:  {'min_samples_leaf': 30, 'max_depth': 10, 'max_features': 'auto', 'min_samples_split': 50}\n",
      "Best score:  0.9109349089955061\n"
     ]
    }
   ],
   "source": [
    "print('Best parameter: ', clf.best_params_ )\n",
    "print('Best score: ',clf.best_score_)"
   ]
  },
  {
   "cell_type": "code",
   "execution_count": 22,
   "metadata": {
    "scrolled": true
   },
   "outputs": [
    {
     "name": "stdout",
     "output_type": "stream",
     "text": [
      "\n",
      "==================================================================================\n",
      "Testing DecisionTreeRegressor\n",
      "Learing time 0.6142139434814453s\n",
      "Predicting time 0.021390914916992188s\n",
      "=================================== Results Training set======================================\n",
      "         bias\n",
      "MSE       5016766.662212044\n",
      "R2        0.9266406253640578\n",
      "=================================== Results Testing set======================================\n",
      "         bias\n",
      "MSE       5938008.969225966\n",
      "R2        0.9156845193512919\n",
      "===================================================================================\n"
     ]
    },
    {
     "data": {
      "text/plain": [
       "DecisionTreeRegressor(criterion='mse', max_depth=10, max_features='auto',\n",
       "           max_leaf_nodes=None, min_impurity_decrease=0.0,\n",
       "           min_impurity_split=None, min_samples_leaf=30,\n",
       "           min_samples_split=50, min_weight_fraction_leaf=0.0,\n",
       "           presort=False, random_state=0, splitter='best')"
      ]
     },
     "execution_count": 22,
     "metadata": {},
     "output_type": "execute_result"
    }
   ],
   "source": [
    "best_clf=clf.best_estimator_\n",
    "\n",
    "cars_functions.test_classifier(X_train, y_train, X_test, y_test, best_clf)"
   ]
  },
  {
   "cell_type": "code",
   "execution_count": 23,
   "metadata": {
    "scrolled": true
   },
   "outputs": [
    {
     "data": {
      "text/plain": [
       "<Figure size 432x288 with 0 Axes>"
      ]
     },
     "metadata": {},
     "output_type": "display_data"
    }
   ],
   "source": [
    "from io import StringIO\n",
    "#import StringIO.StringIO\n",
    "from IPython.display import Image  \n",
    "from sklearn.tree import export_graphviz\n",
    "import pydotplus\n",
    "dot_data = StringIO()\n",
    "export_graphviz(best_clf, out_file=dot_data, max_depth=3, feature_names=X.columns,\n",
    "                filled=True, rounded=True,\n",
    "                special_characters=True)\n",
    "graph = pydotplus.graph_from_dot_data(dot_data.getvalue())  \n",
    "Image(graph.create_png())\n",
    "plt.savefig('pictures/Decision_tree_depth_3')"
   ]
  },
  {
   "cell_type": "code",
   "execution_count": 25,
   "metadata": {
    "scrolled": true
   },
   "outputs": [
    {
     "name": "stdout",
     "output_type": "stream",
     "text": [
      "Feature ranking:\n",
      "1. feature: Age_year_final (0.609401)\n",
      "2. feature: Performance_kW_final (0.251807)\n",
      "3. feature: Speedometer_final (0.047891)\n",
      "4. feature: Price_avg (0.043996)\n",
      "5. feature: WeightTotal_final (0.021311)\n",
      "6. feature: Capacity_final (0.010112)\n",
      "7. feature: Flag_back_w (0.008627)\n",
      "8. feature: E (0.001623)\n",
      "9. feature: Luggagerack_final (0.001413)\n",
      "10. feature: Flag_diesel (0.001393)\n",
      "11. feature: SUV (0.001055)\n",
      "12. feature: Nr_Doors (0.000832)\n",
      "13. feature: Rating_gr (0.000180)\n",
      "14. feature: C (0.000135)\n",
      "15. feature: D (0.000132)\n"
     ]
    },
    {
     "data": {
      "image/png": "[encoded data removed]",
      "text/plain": [
       "<Figure size 864x288 with 1 Axes>"
      ]
     },
     "metadata": {
      "needs_background": "light"
     },
     "output_type": "display_data"
    }
   ],
   "source": [
    "#plot the best 15 features \n",
    "cars_functions.plot_feature_importance(best_clf, 15, X)"
   ]
  },
  {
   "cell_type": "markdown",
   "metadata": {},
   "source": [
    "### 3.7 Random Forest Regression "
   ]
  },
  {
   "cell_type": "code",
   "execution_count": 26,
   "metadata": {
    "scrolled": true
   },
   "outputs": [
    {
     "name": "stdout",
     "output_type": "stream",
     "text": [
      "\n",
      "==================================================================================\n",
      "Testing RandomForestRegressor\n",
      "Learing time 32.17579412460327s\n",
      "Predicting time 0.7882561683654785s\n",
      "=================================== Results Training set======================================\n",
      "         bias\n",
      "MSE       4352801.140433418\n",
      "R2        0.936349686745045\n",
      "=================================== Results Testing set======================================\n",
      "         bias\n",
      "MSE       5042070.780716794\n",
      "R2        0.9284062008757189\n",
      "===================================================================================\n"
     ]
    },
    {
     "data": {
      "text/plain": [
       "RandomForestRegressor(bootstrap=True, criterion='mse', max_depth=10,\n",
       "           max_features='auto', max_leaf_nodes=None,\n",
       "           min_impurity_decrease=0.0, min_impurity_split=None,\n",
       "           min_samples_leaf=30, min_samples_split=50,\n",
       "           min_weight_fraction_leaf=0.0, n_estimators=100, n_jobs=None,\n",
       "           oob_score=True, random_state=0, verbose=0, warm_start=False)"
      ]
     },
     "execution_count": 26,
     "metadata": {},
     "output_type": "execute_result"
    }
   ],
   "source": [
    "#parameters tuning is based on the decesion tree regressor, number of estimators=100\n",
    "rf=RandomForestRegressor(**clf.best_params_, random_state=0, n_estimators=100, oob_score=True)\n",
    "cars_functions.test_classifier(X_train, y_train, X_test, y_test, rf)"
   ]
  },
  {
   "cell_type": "code",
   "execution_count": 27,
   "metadata": {
    "scrolled": true
   },
   "outputs": [
    {
     "name": "stdout",
     "output_type": "stream",
     "text": [
      "0.927850298994486\n"
     ]
    }
   ],
   "source": [
    "print(rf.oob_score_)"
   ]
  },
  {
   "cell_type": "markdown",
   "metadata": {},
   "source": [
    "The performance improved further if I used 100 decision trees instead of 1 decision tree"
   ]
  },
  {
   "cell_type": "code",
   "execution_count": 28,
   "metadata": {
    "scrolled": true
   },
   "outputs": [
    {
     "name": "stdout",
     "output_type": "stream",
     "text": [
      "Feature ranking:\n",
      "1. feature: Age_year_final (0.609975)\n",
      "2. feature: Performance_kW_final (0.244603)\n",
      "3. feature: Speedometer_final (0.050919)\n",
      "4. feature: Price_avg (0.042568)\n",
      "5. feature: WeightTotal_final (0.019633)\n",
      "6. feature: Capacity_final (0.017437)\n",
      "7. feature: Flag_back_w (0.009700)\n",
      "8. feature: Luggagerack_final (0.001597)\n",
      "9. feature: Nr_Doors (0.000875)\n",
      "10. feature: E (0.000703)\n",
      "11. feature: Flag_diesel (0.000451)\n",
      "12. feature: SUV (0.000379)\n",
      "13. feature: Rating_gr (0.000287)\n",
      "14. feature: C (0.000282)\n",
      "15. feature: D (0.000175)\n"
     ]
    },
    {
     "data": {
      "image/png": "[encoded data removed]",
      "text/plain": [
       "<Figure size 864x288 with 1 Axes>"
      ]
     },
     "metadata": {
      "needs_background": "light"
     },
     "output_type": "display_data"
    }
   ],
   "source": [
    "#Feature importance by random forest:\n",
    "\n",
    "cars_functions.plot_feature_importance(rf, 15, X)"
   ]
  },
  {
   "cell_type": "markdown",
   "metadata": {
    "collapsed": true
   },
   "source": [
    "### 3.8 Support verctor machine"
   ]
  },
  {
   "cell_type": "code",
   "execution_count": 29,
   "metadata": {},
   "outputs": [],
   "source": [
    "from sklearn.svm import SVR\n",
    "params_svr=[{\"kernel\": [\"rbf\"], \"C\": [1e1,  1e3]},\n",
    "            {\"kernel\": [\"linear\"], \"C\": [1e1,  1e3]} ,\n",
    "            {\"kernel\": [\"poly\"], \"C\": [1e1,  1e3] }]\n",
    "\n",
    "\n",
    "svr =SVR()\n",
    "clf_svr=GridSearchCV(svr, params_svr, cv=3)\n",
    "                   \n",
    "clf_svr.fit(X_train, y_train)\n",
    "\n",
    "scores_svr = clf_svr.cv_results_['mean_test_score']\n",
    "scores_svr_std = clf_svr.cv_results_['std_test_score']"
   ]
  },
  {
   "cell_type": "code",
   "execution_count": 30,
   "metadata": {},
   "outputs": [
    {
     "name": "stdout",
     "output_type": "stream",
     "text": [
      "\n",
      "==================================================================================\n",
      "Testing SVR\n",
      "Learing time 482.8673560619354s\n",
      "Predicting time 394.0100529193878s\n",
      "=================================== Results Training set======================================\n",
      "         bias\n",
      "MSE       7859867.835984328\n",
      "R2        0.8850664126932448\n",
      "=================================== Results Testing set======================================\n",
      "         bias\n",
      "MSE       8568799.624018768\n",
      "R2        0.8783291735283807\n",
      "===================================================================================\n"
     ]
    },
    {
     "data": {
      "text/plain": [
       "SVR(C=1000.0, cache_size=200, coef0=0.0, degree=3, epsilon=0.1,\n",
       "  gamma='auto_deprecated', kernel='rbf', max_iter=-1, shrinking=True,\n",
       "  tol=0.001, verbose=False)"
      ]
     },
     "execution_count": 30,
     "metadata": {},
     "output_type": "execute_result"
    }
   ],
   "source": [
    "best_clf_svr=clf_svr.best_estimator_\n",
    "\n",
    "cars_functions.test_classifier(X_train, y_train, X_test, y_test, best_clf_svr)"
   ]
  },
  {
   "cell_type": "markdown",
   "metadata": {},
   "source": [
    "### 3.8. Boosting - AdaBoostRegressor"
   ]
  },
  {
   "cell_type": "code",
   "execution_count": 31,
   "metadata": {
    "scrolled": true
   },
   "outputs": [],
   "source": [
    "# Try out different number of estimators for AdaBoost Regression\n",
    "r2_test = []\n",
    "mse_test = []\n",
    "r2_train = []\n",
    "mse_train= []\n",
    "    \n",
    "dtree=DecisionTreeRegressor(**clf.best_params_)\n",
    "for i in np.arange(1,30):\n",
    "    boost = AdaBoostRegressor(dtree, n_estimators=i)\n",
    "    model = boost.fit(X_train, y_train)\n",
    "    predictions = model.predict(X_test)\n",
    "    predictions_train = model.predict(X_train)\n",
    "    r2_test.append(r2_score(y_test, predictions))\n",
    "    mse_test.append(mean_squared_error(y_test, predictions))\n",
    "    r2_train.append(r2_score(y_train, predictions_train))\n",
    "    mse_train.append(mean_squared_error(y_train, predictions_train))\n",
    "    "
   ]
  },
  {
   "cell_type": "code",
   "execution_count": 32,
   "metadata": {
    "scrolled": true
   },
   "outputs": [
    {
     "data": {
      "text/plain": [
       "Text(0.5, 1.0, 'R2 based on the number of estimators')"
      ]
     },
     "execution_count": 32,
     "metadata": {},
     "output_type": "execute_result"
    },
    {
     "data": {
      "image/png": "[encoded data removed]",
      "text/plain": [
       "<Figure size 432x288 with 1 Axes>"
      ]
     },
     "metadata": {
      "needs_background": "light"
     },
     "output_type": "display_data"
    }
   ],
   "source": [
    "#Plot the R2 for the test and training set\n",
    "plt.plot(np.arange(1,30), r2_test)\n",
    "plt.plot(np.arange(1,30), r2_train)\n",
    "\n",
    "plt.ylabel('r2')\n",
    "plt.xlabel('number of estimators')\n",
    "plt.title('R2 based on the number of estimators')\n"
   ]
  },
  {
   "cell_type": "code",
   "execution_count": 33,
   "metadata": {
    "scrolled": true
   },
   "outputs": [
    {
     "data": {
      "text/plain": [
       "Text(0.5, 1.0, 'MSE based on the number of estimators')"
      ]
     },
     "execution_count": 33,
     "metadata": {},
     "output_type": "execute_result"
    },
    {
     "data": {
      "image/png": "[encoded data removed]",
      "text/plain": [
       "<Figure size 432x288 with 1 Axes>"
      ]
     },
     "metadata": {
      "needs_background": "light"
     },
     "output_type": "display_data"
    }
   ],
   "source": [
    "#Plot the MSE for the test and training set\n",
    "\n",
    "plt.plot(np.arange(1,30), mse_test)\n",
    "plt.plot(np.arange(1,30), mse_train)\n",
    "\n",
    "plt.ylabel('MSE')\n",
    "plt.xlabel('number of estimators')\n",
    "plt.title('MSE based on the number of estimators')"
   ]
  },
  {
   "cell_type": "code",
   "execution_count": 34,
   "metadata": {
    "scrolled": true
   },
   "outputs": [
    {
     "name": "stdout",
     "output_type": "stream",
     "text": [
      "\n",
      "==================================================================================\n",
      "Testing AdaBoostRegressor\n",
      "Learing time 8.811702966690063s\n",
      "Predicting time 0.2951819896697998s\n",
      "=================================== Results Training set======================================\n",
      "         bias\n",
      "MSE       2894761.6567922244\n",
      "R2        0.9576703643679639\n",
      "=================================== Results Testing set======================================\n",
      "         bias\n",
      "MSE       4362712.640822061\n",
      "R2        0.938052600602411\n",
      "===================================================================================\n"
     ]
    },
    {
     "data": {
      "text/plain": [
       "AdaBoostRegressor(base_estimator=DecisionTreeRegressor(criterion='mse', max_depth=10, max_features='auto',\n",
       "           max_leaf_nodes=None, min_impurity_decrease=0.0,\n",
       "           min_impurity_split=None, min_samples_leaf=30,\n",
       "           min_samples_split=50, min_weight_fraction_leaf=0.0,\n",
       "           presort=False, random_state=None, splitter='best'),\n",
       "         learning_rate=1.0, loss='linear', n_estimators=18,\n",
       "         random_state=None)"
      ]
     },
     "execution_count": 34,
     "metadata": {},
     "output_type": "execute_result"
    }
   ],
   "source": [
    "#n_estimators=18 -> best r2 and MSE\n",
    "\n",
    "boost = AdaBoostRegressor(dtree, n_estimators=18)\n",
    "cars_functions.test_classifier(X_train, y_train, X_test, y_test, boost)"
   ]
  },
  {
   "cell_type": "code",
   "execution_count": 35,
   "metadata": {
    "scrolled": true
   },
   "outputs": [
    {
     "name": "stdout",
     "output_type": "stream",
     "text": [
      "Feature ranking:\n",
      "1. feature: Age_year_final (0.609975)\n",
      "2. feature: Performance_kW_final (0.244603)\n",
      "3. feature: Speedometer_final (0.050919)\n",
      "4. feature: Price_avg (0.042568)\n",
      "5. feature: WeightTotal_final (0.019633)\n",
      "6. feature: Capacity_final (0.017437)\n",
      "7. feature: Flag_back_w (0.009700)\n",
      "8. feature: Luggagerack_final (0.001597)\n",
      "9. feature: Nr_Doors (0.000875)\n",
      "10. feature: E (0.000703)\n",
      "11. feature: Flag_diesel (0.000451)\n",
      "12. feature: SUV (0.000379)\n",
      "13. feature: Rating_gr (0.000287)\n",
      "14. feature: C (0.000282)\n",
      "15. feature: D (0.000175)\n",
      "16. feature: S (0.000170)\n",
      "17. feature: Nr_Person_gr (0.000166)\n",
      "18. feature: F (0.000046)\n"
     ]
    },
    {
     "data": {
      "image/png": "[encoded data removed]",
      "text/plain": [
       "<Figure size 864x288 with 1 Axes>"
      ]
     },
     "metadata": {
      "needs_background": "light"
     },
     "output_type": "display_data"
    }
   ],
   "source": [
    "#Feature importance by AdaBoost Regression\n",
    "\n",
    "cars_functions.plot_feature_importance(rf, 18, X)"
   ]
  },
  {
   "cell_type": "markdown",
   "metadata": {},
   "source": [
    "### 3.9. Random forest with less variables"
   ]
  },
  {
   "cell_type": "code",
   "execution_count": 36,
   "metadata": {},
   "outputs": [],
   "source": [
    "##delete\n",
    "def get_top_vars(clf, n, X):\n",
    "    importances = rf.feature_importances_\n",
    "    indices = np.argsort(importances)[::-1][:n]\n",
    "    return indices\n",
    "\n",
    "def build_classifier(clf, X_train, y_train, X_test, y_test):\n",
    "    model = clf.fit(X_train, y_train)\n",
    "    predictions = model.predict(X_test)\n",
    "    predictions_train = model.predict(X_train)\n",
    "    r2_test = r2_score(y_test, predictions)\n",
    "    mse_test = mean_squared_error(y_test, predictions)\n",
    "    r2_train = r2_score(y_train, predictions_train)\n",
    "    mse_train = mean_squared_error(y_train, predictions_train)\n",
    "    return r2_test, mse_test, r2_train, mse_train"
   ]
  },
  {
   "cell_type": "code",
   "execution_count": 37,
   "metadata": {
    "scrolled": true
   },
   "outputs": [],
   "source": [
    "##2* cars_functions.\n",
    "r2_test_rf =[]\n",
    "mse_test_rf =[]\n",
    "r2_train_rf =[]\n",
    "mse_train_rf =[]\n",
    "ind=np.arange(7,30) \n",
    "\n",
    "for i in ind:\n",
    "    cols=get_top_vars(rf, i, X)\n",
    "    rf_i=RandomForestRegressor(**rf.get_params())\n",
    "    performance=build_classifier(rf_i, X_train[:,cols], y_train, X_test[:,cols], y_test)\n",
    "    r2_test_rf.append(performance[0])\n",
    "    mse_test_rf.append(performance[1])\n",
    "    r2_train_rf.append(performance[2])\n",
    "    mse_train_rf.append(performance[3])"
   ]
  },
  {
   "cell_type": "code",
   "execution_count": 38,
   "metadata": {},
   "outputs": [
    {
     "data": {
      "image/png": "[encoded data removed]",
      "text/plain": [
       "<Figure size 864x360 with 2 Axes>"
      ]
     },
     "metadata": {
      "needs_background": "light"
     },
     "output_type": "display_data"
    }
   ],
   "source": [
    "fig, ax = plt.subplots(1,2,figsize=(12,5))\n",
    "\n",
    "ax[0].plot(ind, r2_test_rf, 'b', label='Test error')\n",
    "ax[0].plot(ind, r2_train_rf, 'r', label='Training error')\n",
    "ax[0].legend()\n",
    "ax[1].plot(ind, mse_test_rf, 'b', label='Test error')\n",
    "ax[1].plot(ind, mse_train_rf, 'r', label='Training error')\n",
    "ax[1].legend()\n",
    "ax[0].set_xlabel('Number of variables')\n",
    "ax[1].set_xlabel('Number of variables')\n",
    "ax[0].set_ylabel('$R^2$') \n",
    "ax[1].set_ylabel('MSE')\n",
    "ax[0].set_title('R2')\n",
    "ax[1].set_title('MSE')\n",
    "fig.suptitle('Performance of Random Forest')\n",
    "plt.tight_layout()\n",
    "plt.show()"
   ]
  },
  {
   "cell_type": "markdown",
   "metadata": {},
   "source": [
    "Choosing the best 14 variables would be enough"
   ]
  },
  {
   "cell_type": "markdown",
   "metadata": {},
   "source": [
    "### 3.9. AdaBoost with less variables"
   ]
  },
  {
   "cell_type": "code",
   "execution_count": 39,
   "metadata": {},
   "outputs": [],
   "source": [
    "##2* cars_functions.\n",
    "r2_test_boost =[]\n",
    "mse_test_boost =[]\n",
    "r2_train_boost =[]\n",
    "mse_train_boost =[]\n",
    "ind=np.arange(7,30) \n",
    "\n",
    "for i in ind:\n",
    "    cols=get_top_vars(boost, i, X)\n",
    "    \n",
    "    boost_i=AdaBoostRegressor(dtree, n_estimators=18)\n",
    "    performance=build_classifier(boost_i, X_train[:,cols], y_train, X_test[:,cols], y_test)\n",
    "    r2_test_boost.append(performance[0])\n",
    "    mse_test_boost.append(performance[1])\n",
    "    r2_train_boost.append(performance[2])\n",
    "    mse_train_boost.append(performance[3])\n"
   ]
  },
  {
   "cell_type": "code",
   "execution_count": 40,
   "metadata": {},
   "outputs": [
    {
     "data": {
      "image/png": "[encoded data removed]",
      "text/plain": [
       "<Figure size 864x360 with 2 Axes>"
      ]
     },
     "metadata": {
      "needs_background": "light"
     },
     "output_type": "display_data"
    }
   ],
   "source": [
    "##2* cars_functions.\n",
    "fig, ax = plt.subplots(1,2,figsize=(12,5))\n",
    "\n",
    "ax[0].plot(ind, r2_test_boost, 'b', label='Test error')\n",
    "ax[0].plot(ind, r2_train_boost, 'r', label='Training error')\n",
    "ax[0].legend()\n",
    "ax[1].plot(ind, mse_test_boost, 'b', label='Test error')\n",
    "ax[1].plot(ind, mse_train_boost, 'r', label='Training error')\n",
    "ax[1].legend()\n",
    "ax[0].set_xlabel('Number of variables')\n",
    "ax[1].set_xlabel('Number of variables')\n",
    "ax[0].set_ylabel(r'$\\R^2')\n",
    "ax[1].set_ylabel('MSE')\n",
    "ax[0].set_title('R2')\n",
    "ax[1].set_title('MSE')\n",
    "fig.suptitle('Performance of AdaBoost')\n",
    "plt.tight_layout()\n",
    "plt.show()"
   ]
  },
  {
   "cell_type": "markdown",
   "metadata": {},
   "source": [
    "It is enough to choose the best 9 variables  -> model's performance won't improve more, if we add more variables."
   ]
  },
  {
   "cell_type": "markdown",
   "metadata": {},
   "source": [
    "### 4. Fitting the final model"
   ]
  },
  {
   "cell_type": "code",
   "execution_count": 41,
   "metadata": {},
   "outputs": [
    {
     "name": "stdout",
     "output_type": "stream",
     "text": [
      "\n",
      "==================================================================================\n",
      "Testing AdaBoostRegressor\n",
      "Learing time 3.08907413482666s\n",
      "Predicting time 0.20723581314086914s\n",
      "=================================== Results Training set======================================\n",
      "         bias\n",
      "MSE       2919845.033730363\n",
      "R2        0.9573035741682523\n",
      "=================================== Results Testing set======================================\n",
      "         bias\n",
      "MSE       4417854.143086538\n",
      "R2        0.9372696307060676\n",
      "===================================================================================\n"
     ]
    },
    {
     "data": {
      "text/plain": [
       "AdaBoostRegressor(base_estimator=DecisionTreeRegressor(criterion='mse', max_depth=10, max_features='auto',\n",
       "           max_leaf_nodes=None, min_impurity_decrease=0.0,\n",
       "           min_impurity_split=None, min_samples_leaf=30,\n",
       "           min_samples_split=50, min_weight_fraction_leaf=0.0,\n",
       "           presort=False, random_state=None, splitter='best'),\n",
       "         learning_rate=1.0, loss='linear', n_estimators=18,\n",
       "         random_state=None)"
      ]
     },
     "execution_count": 41,
     "metadata": {},
     "output_type": "execute_result"
    }
   ],
   "source": [
    "cols=get_top_vars(boost, 9, X)\n",
    "boost = AdaBoostRegressor(dtree, n_estimators=18)\n",
    "cars_functions.test_classifier(X_train[:,cols], y_train, X_test[:,cols], y_test, boost)"
   ]
  },
  {
   "cell_type": "code",
   "execution_count": 42,
   "metadata": {},
   "outputs": [
    {
     "data": {
      "text/plain": [
       "Index(['Age_year_final', 'Performance_kW_final', 'Speedometer_final',\n",
       "       'Price_avg', 'WeightTotal_final', 'Capacity_final', 'Flag_back_w',\n",
       "       'Luggagerack_final', 'Nr_Doors'],\n",
       "      dtype='object')"
      ]
     },
     "execution_count": 42,
     "metadata": {},
     "output_type": "execute_result"
    }
   ],
   "source": [
    "#the features\n",
    "X.iloc[:,cols].columns"
   ]
  },
  {
   "cell_type": "code",
   "execution_count": 76,
   "metadata": {},
   "outputs": [
    {
     "name": "stdout",
     "output_type": "stream",
     "text": [
      "Feature ranking:\n",
      "1. feature: Age_year_final (0.499360)\n",
      "2. feature: Performance_kW_final (0.203315)\n",
      "3. feature: Price_avg (0.067839)\n",
      "4. feature: Speedometer_final (0.067752)\n",
      "5. feature: WeightTotal_final (0.062141)\n",
      "6. feature: Capacity_final (0.059772)\n",
      "7. feature: Luggagerack_final (0.019234)\n",
      "8. feature: Flag_back_w (0.014291)\n",
      "9. feature: Nr_Doors (0.006296)\n"
     ]
    },
    {
     "data": {
      "image/png": "[encoded data removed]",
      "text/plain": [
       "<Figure size 864x288 with 1 Axes>"
      ]
     },
     "metadata": {
      "needs_background": "light"
     },
     "output_type": "display_data"
    }
   ],
   "source": [
    "cars_functions.plot_feature_importance(boost, 9, X.iloc[:,cols])\n",
    "#cc=get_top_vars(boost, 9, X)\n",
    "#X.iloc[:,cc].columns\n",
    "\n",
    "#imp = boost.feature_importances_\n",
    "#imp\n",
    "#indices = np.argsort(imp)[::-1]"
   ]
  },
  {
   "cell_type": "markdown",
   "metadata": {},
   "source": [
    "### 4.1 Exporting the model"
   ]
  },
  {
   "cell_type": "code",
   "execution_count": 43,
   "metadata": {},
   "outputs": [],
   "source": [
    "# save the model to disk\n",
    "filename ='adaboost.sav'\n",
    "pickle.dump(boost, open(filename, 'wb'))"
   ]
  },
  {
   "cell_type": "markdown",
   "metadata": {},
   "source": [
    "#### 4.2. Exporting the StandardScaler for the final variables"
   ]
  },
  {
   "cell_type": "code",
   "execution_count": 44,
   "metadata": {},
   "outputs": [
    {
     "data": {
      "text/plain": [
       "StandardScaler(copy=True, with_mean=True, with_std=True)"
      ]
     },
     "execution_count": 44,
     "metadata": {},
     "output_type": "execute_result"
    }
   ],
   "source": [
    "X_top_final= X.iloc[:,cols]\n",
    "scaler_final=StandardScaler()\n",
    "scaler_final.fit(X_top_final)"
   ]
  },
  {
   "cell_type": "code",
   "execution_count": 45,
   "metadata": {},
   "outputs": [],
   "source": [
    "scaler_filename = \"scaler.sav\"\n",
    "pickle.dump(scaler_final, open(scaler_filename, 'wb')) "
   ]
  },
  {
   "cell_type": "markdown",
   "metadata": {},
   "source": [
    "### 5. Use the model"
   ]
  },
  {
   "cell_type": "code",
   "execution_count": 46,
   "metadata": {},
   "outputs": [
    {
     "data": {
      "text/plain": [
       "array([3342.75432811])"
      ]
     },
     "execution_count": 46,
     "metadata": {},
     "output_type": "execute_result"
    }
   ],
   "source": [
    "#import the model an duse the function calc_price to calculate the price\n",
    "model=pickle.load(open('adaboost.sav', 'rb')) \n",
    "scaler_model=pickle.load(open('scaler.sav', 'rb')) \n",
    "cars_functions.calc_price(scaler_model, model, 'OPEL CORSA', 11, 55, 190000, 1545,1248, 0, 285)"
   ]
  }
 ],
 "metadata": {
  "anaconda-cloud": {},
  "kernelspec": {
   "display_name": "Python [conda root]",
   "language": "python",
   "name": "conda-root-py"
  },
  "language_info": {
   "codemirror_mode": {
    "name": "ipython",
    "version": 3
   },
   "file_extension": ".py",
   "mimetype": "text/x-python",
   "name": "python",
   "nbconvert_exporter": "python",
   "pygments_lexer": "ipython3",
   "version": "3.5.6"
  }
 },
 "nbformat": 4,
 "nbformat_minor": 1
}
