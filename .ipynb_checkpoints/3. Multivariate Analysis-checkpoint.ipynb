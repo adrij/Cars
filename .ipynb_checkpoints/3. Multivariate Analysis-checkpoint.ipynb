{
 "cells": [
  {
   "cell_type": "markdown",
   "metadata": {},
   "source": [
    "# 3. Notebook: Multivarite Analysis"
   ]
  },
  {
   "cell_type": "markdown",
   "metadata": {},
   "source": [
    "## 0. import the packages and the dataset "
   ]
  },
  {
   "cell_type": "code",
   "execution_count": 1,
   "metadata": {
    "scrolled": true
   },
   "outputs": [],
   "source": [
    "#import the relevant libraries\n",
    "import pandas as pd\n",
    "import numpy as np\n",
    "import matplotlib.pyplot as plt\n",
    "%matplotlib inline\n",
    "import seaborn as sns\n",
    "import pickle\n",
    "from sklearn.preprocessing import StandardScaler\n",
    "\n",
    "import warnings\n",
    "warnings.filterwarnings(\"ignore\")\n",
    "import cars_functions\n",
    "##libraries for the multivariate analysis\n",
    "from sklearn.feature_selection import SelectKBest\n",
    "from sklearn.feature_selection import f_regression\n",
    "from sklearn.preprocessing import PolynomialFeatures\n",
    "from sklearn.linear_model import LinearRegression\n",
    "from sklearn.pipeline import Pipeline\n",
    "from sklearn.metrics import mean_squared_error\n",
    "from sklearn.metrics import r2_score\n",
    "from sklearn.linear_model import Lasso\n",
    "from sklearn.linear_model import Ridge\n",
    "from sklearn.model_selection import GridSearchCV\n",
    "from sklearn.tree import DecisionTreeRegressor\n",
    "from sklearn.ensemble import RandomForestRegressor\n",
    "from sklearn.ensemble import AdaBoostRegressor"
   ]
  },
  {
   "cell_type": "code",
   "execution_count": 2,
   "metadata": {
    "scrolled": true
   },
   "outputs": [
    {
     "data": {
      "text/html": [
       "<div>\n",
       "<style scoped>\n",
       "    .dataframe tbody tr th:only-of-type {\n",
       "        vertical-align: middle;\n",
       "    }\n",
       "\n",
       "    .dataframe tbody tr th {\n",
       "        vertical-align: top;\n",
       "    }\n",
       "\n",
       "    .dataframe thead th {\n",
       "        text-align: right;\n",
       "    }\n",
       "</style>\n",
       "<table border=\"1\" class=\"dataframe\">\n",
       "  <thead>\n",
       "    <tr style=\"text-align: right;\">\n",
       "      <th></th>\n",
       "      <th>Nr_Doors</th>\n",
       "      <th>Luggagerack_final</th>\n",
       "      <th>Capacity_final</th>\n",
       "      <th>Speedometer_final</th>\n",
       "      <th>Nr_Person_gr</th>\n",
       "      <th>Rating_gr</th>\n",
       "      <th>WeightTotal_final</th>\n",
       "      <th>Flag_Guarantee</th>\n",
       "      <th>Performance_kW_final</th>\n",
       "      <th>Age_final</th>\n",
       "      <th>...</th>\n",
       "      <th>LANCIA</th>\n",
       "      <th>JAGUAR</th>\n",
       "      <th>SAAB</th>\n",
       "      <th>JEEP</th>\n",
       "      <th>PORSCHE</th>\n",
       "      <th>ROVER</th>\n",
       "      <th>DAIHATSU</th>\n",
       "      <th>SSANGYONG</th>\n",
       "      <th>Price_avg</th>\n",
       "      <th>PriceEUR</th>\n",
       "    </tr>\n",
       "  </thead>\n",
       "  <tbody>\n",
       "    <tr>\n",
       "      <th>0</th>\n",
       "      <td>5.0</td>\n",
       "      <td>450.0</td>\n",
       "      <td>1995.0</td>\n",
       "      <td>196624.0</td>\n",
       "      <td>3</td>\n",
       "      <td>3</td>\n",
       "      <td>2320.0</td>\n",
       "      <td>0</td>\n",
       "      <td>110.0</td>\n",
       "      <td>4182</td>\n",
       "      <td>...</td>\n",
       "      <td>0</td>\n",
       "      <td>0</td>\n",
       "      <td>0</td>\n",
       "      <td>0</td>\n",
       "      <td>0</td>\n",
       "      <td>0</td>\n",
       "      <td>0</td>\n",
       "      <td>0</td>\n",
       "      <td>14851.831050</td>\n",
       "      <td>8571.0</td>\n",
       "    </tr>\n",
       "    <tr>\n",
       "      <th>1</th>\n",
       "      <td>5.0</td>\n",
       "      <td>280.0</td>\n",
       "      <td>1197.0</td>\n",
       "      <td>38000.0</td>\n",
       "      <td>2</td>\n",
       "      <td>3</td>\n",
       "      <td>1620.0</td>\n",
       "      <td>0</td>\n",
       "      <td>66.0</td>\n",
       "      <td>1870</td>\n",
       "      <td>...</td>\n",
       "      <td>0</td>\n",
       "      <td>0</td>\n",
       "      <td>0</td>\n",
       "      <td>0</td>\n",
       "      <td>0</td>\n",
       "      <td>0</td>\n",
       "      <td>0</td>\n",
       "      <td>0</td>\n",
       "      <td>3232.922631</td>\n",
       "      <td>10604.0</td>\n",
       "    </tr>\n",
       "    <tr>\n",
       "      <th>2</th>\n",
       "      <td>5.0</td>\n",
       "      <td>500.0</td>\n",
       "      <td>1998.0</td>\n",
       "      <td>250000.0</td>\n",
       "      <td>2</td>\n",
       "      <td>2</td>\n",
       "      <td>2005.0</td>\n",
       "      <td>0</td>\n",
       "      <td>96.0</td>\n",
       "      <td>4182</td>\n",
       "      <td>...</td>\n",
       "      <td>0</td>\n",
       "      <td>0</td>\n",
       "      <td>0</td>\n",
       "      <td>0</td>\n",
       "      <td>0</td>\n",
       "      <td>0</td>\n",
       "      <td>0</td>\n",
       "      <td>0</td>\n",
       "      <td>7287.400570</td>\n",
       "      <td>5800.0</td>\n",
       "    </tr>\n",
       "    <tr>\n",
       "      <th>3</th>\n",
       "      <td>5.0</td>\n",
       "      <td>560.0</td>\n",
       "      <td>1995.0</td>\n",
       "      <td>249000.0</td>\n",
       "      <td>2</td>\n",
       "      <td>2</td>\n",
       "      <td>2365.0</td>\n",
       "      <td>0</td>\n",
       "      <td>135.0</td>\n",
       "      <td>3055</td>\n",
       "      <td>...</td>\n",
       "      <td>0</td>\n",
       "      <td>0</td>\n",
       "      <td>0</td>\n",
       "      <td>0</td>\n",
       "      <td>0</td>\n",
       "      <td>0</td>\n",
       "      <td>0</td>\n",
       "      <td>0</td>\n",
       "      <td>14430.805659</td>\n",
       "      <td>14504.0</td>\n",
       "    </tr>\n",
       "    <tr>\n",
       "      <th>4</th>\n",
       "      <td>5.0</td>\n",
       "      <td>295.0</td>\n",
       "      <td>1388.0</td>\n",
       "      <td>71000.0</td>\n",
       "      <td>2</td>\n",
       "      <td>2</td>\n",
       "      <td>1495.0</td>\n",
       "      <td>0</td>\n",
       "      <td>71.0</td>\n",
       "      <td>3086</td>\n",
       "      <td>...</td>\n",
       "      <td>0</td>\n",
       "      <td>0</td>\n",
       "      <td>0</td>\n",
       "      <td>0</td>\n",
       "      <td>0</td>\n",
       "      <td>0</td>\n",
       "      <td>0</td>\n",
       "      <td>0</td>\n",
       "      <td>4588.749014</td>\n",
       "      <td>7325.0</td>\n",
       "    </tr>\n",
       "  </tbody>\n",
       "</table>\n",
       "<p>5 rows × 65 columns</p>\n",
       "</div>"
      ],
      "text/plain": [
       "   Nr_Doors  Luggagerack_final  Capacity_final  Speedometer_final  \\\n",
       "0       5.0              450.0          1995.0           196624.0   \n",
       "1       5.0              280.0          1197.0            38000.0   \n",
       "2       5.0              500.0          1998.0           250000.0   \n",
       "3       5.0              560.0          1995.0           249000.0   \n",
       "4       5.0              295.0          1388.0            71000.0   \n",
       "\n",
       "   Nr_Person_gr  Rating_gr  WeightTotal_final  Flag_Guarantee  \\\n",
       "0             3          3             2320.0               0   \n",
       "1             2          3             1620.0               0   \n",
       "2             2          2             2005.0               0   \n",
       "3             2          2             2365.0               0   \n",
       "4             2          2             1495.0               0   \n",
       "\n",
       "   Performance_kW_final  Age_final    ...     LANCIA  JAGUAR  SAAB  JEEP  \\\n",
       "0                 110.0       4182    ...          0       0     0     0   \n",
       "1                  66.0       1870    ...          0       0     0     0   \n",
       "2                  96.0       4182    ...          0       0     0     0   \n",
       "3                 135.0       3055    ...          0       0     0     0   \n",
       "4                  71.0       3086    ...          0       0     0     0   \n",
       "\n",
       "   PORSCHE  ROVER  DAIHATSU  SSANGYONG     Price_avg  PriceEUR  \n",
       "0        0      0         0          0  14851.831050    8571.0  \n",
       "1        0      0         0          0   3232.922631   10604.0  \n",
       "2        0      0         0          0   7287.400570    5800.0  \n",
       "3        0      0         0          0  14430.805659   14504.0  \n",
       "4        0      0         0          0   4588.749014    7325.0  \n",
       "\n",
       "[5 rows x 65 columns]"
      ]
     },
     "execution_count": 2,
     "metadata": {},
     "output_type": "execute_result"
    }
   ],
   "source": [
    "#import the dataset\n",
    "df_cars_final=pd.read_csv('data/df_cars_final.csv', index_col=0)\n",
    "df_cars_final.head()"
   ]
  },
  {
   "cell_type": "code",
   "execution_count": 3,
   "metadata": {
    "scrolled": true
   },
   "outputs": [
    {
     "data": {
      "text/html": [
       "<div>\n",
       "<style scoped>\n",
       "    .dataframe tbody tr th:only-of-type {\n",
       "        vertical-align: middle;\n",
       "    }\n",
       "\n",
       "    .dataframe tbody tr th {\n",
       "        vertical-align: top;\n",
       "    }\n",
       "\n",
       "    .dataframe thead th {\n",
       "        text-align: right;\n",
       "    }\n",
       "</style>\n",
       "<table border=\"1\" class=\"dataframe\">\n",
       "  <thead>\n",
       "    <tr style=\"text-align: right;\">\n",
       "      <th></th>\n",
       "      <th>Nr_Doors</th>\n",
       "      <th>Luggagerack_final</th>\n",
       "      <th>Capacity_final</th>\n",
       "      <th>Speedometer_final</th>\n",
       "      <th>Nr_Person_gr</th>\n",
       "      <th>Rating_gr</th>\n",
       "      <th>WeightTotal_final</th>\n",
       "      <th>Flag_Guarantee</th>\n",
       "      <th>Performance_kW_final</th>\n",
       "      <th>Age_final</th>\n",
       "      <th>...</th>\n",
       "      <th>LANCIA</th>\n",
       "      <th>JAGUAR</th>\n",
       "      <th>SAAB</th>\n",
       "      <th>JEEP</th>\n",
       "      <th>PORSCHE</th>\n",
       "      <th>ROVER</th>\n",
       "      <th>DAIHATSU</th>\n",
       "      <th>SSANGYONG</th>\n",
       "      <th>Price_avg</th>\n",
       "      <th>PriceEUR</th>\n",
       "    </tr>\n",
       "  </thead>\n",
       "  <tbody>\n",
       "    <tr>\n",
       "      <th>count</th>\n",
       "      <td>84660.000000</td>\n",
       "      <td>84660.000000</td>\n",
       "      <td>84660.000000</td>\n",
       "      <td>8.466000e+04</td>\n",
       "      <td>84660.000000</td>\n",
       "      <td>84660.000000</td>\n",
       "      <td>84660.000000</td>\n",
       "      <td>84660.000000</td>\n",
       "      <td>84660.000000</td>\n",
       "      <td>84660.000000</td>\n",
       "      <td>...</td>\n",
       "      <td>84660.000000</td>\n",
       "      <td>84660.000000</td>\n",
       "      <td>84660.000000</td>\n",
       "      <td>84660.000000</td>\n",
       "      <td>84660.000000</td>\n",
       "      <td>84660.000000</td>\n",
       "      <td>84660.000000</td>\n",
       "      <td>84660.000000</td>\n",
       "      <td>84660.000000</td>\n",
       "      <td>84660.000000</td>\n",
       "    </tr>\n",
       "    <tr>\n",
       "      <th>mean</th>\n",
       "      <td>4.512662</td>\n",
       "      <td>491.174167</td>\n",
       "      <td>1829.968840</td>\n",
       "      <td>1.678876e+05</td>\n",
       "      <td>1.990421</td>\n",
       "      <td>2.308942</td>\n",
       "      <td>1910.575207</td>\n",
       "      <td>0.023104</td>\n",
       "      <td>93.338353</td>\n",
       "      <td>4563.170541</td>\n",
       "      <td>...</td>\n",
       "      <td>0.003118</td>\n",
       "      <td>0.002870</td>\n",
       "      <td>0.002764</td>\n",
       "      <td>0.002292</td>\n",
       "      <td>0.001618</td>\n",
       "      <td>0.001488</td>\n",
       "      <td>0.001406</td>\n",
       "      <td>0.001252</td>\n",
       "      <td>8027.982766</td>\n",
       "      <td>8012.831798</td>\n",
       "    </tr>\n",
       "    <tr>\n",
       "      <th>std</th>\n",
       "      <td>0.825346</td>\n",
       "      <td>673.207518</td>\n",
       "      <td>572.759831</td>\n",
       "      <td>1.093949e+05</td>\n",
       "      <td>0.395393</td>\n",
       "      <td>0.482175</td>\n",
       "      <td>371.786284</td>\n",
       "      <td>0.150235</td>\n",
       "      <td>40.369691</td>\n",
       "      <td>2300.228812</td>\n",
       "      <td>...</td>\n",
       "      <td>0.055755</td>\n",
       "      <td>0.053499</td>\n",
       "      <td>0.052501</td>\n",
       "      <td>0.047815</td>\n",
       "      <td>0.040195</td>\n",
       "      <td>0.038550</td>\n",
       "      <td>0.037465</td>\n",
       "      <td>0.035363</td>\n",
       "      <td>5635.179540</td>\n",
       "      <td>8313.857154</td>\n",
       "    </tr>\n",
       "    <tr>\n",
       "      <th>min</th>\n",
       "      <td>2.000000</td>\n",
       "      <td>2.000000</td>\n",
       "      <td>1.000000</td>\n",
       "      <td>1.000000e+00</td>\n",
       "      <td>1.000000</td>\n",
       "      <td>1.000000</td>\n",
       "      <td>1.000000</td>\n",
       "      <td>0.000000</td>\n",
       "      <td>1.000000</td>\n",
       "      <td>560.000000</td>\n",
       "      <td>...</td>\n",
       "      <td>0.000000</td>\n",
       "      <td>0.000000</td>\n",
       "      <td>0.000000</td>\n",
       "      <td>0.000000</td>\n",
       "      <td>0.000000</td>\n",
       "      <td>0.000000</td>\n",
       "      <td>0.000000</td>\n",
       "      <td>0.000000</td>\n",
       "      <td>407.000000</td>\n",
       "      <td>153.000000</td>\n",
       "    </tr>\n",
       "    <tr>\n",
       "      <th>25%</th>\n",
       "      <td>4.000000</td>\n",
       "      <td>320.000000</td>\n",
       "      <td>1399.000000</td>\n",
       "      <td>1.075530e+05</td>\n",
       "      <td>2.000000</td>\n",
       "      <td>2.000000</td>\n",
       "      <td>1650.000000</td>\n",
       "      <td>0.000000</td>\n",
       "      <td>66.000000</td>\n",
       "      <td>2813.000000</td>\n",
       "      <td>...</td>\n",
       "      <td>0.000000</td>\n",
       "      <td>0.000000</td>\n",
       "      <td>0.000000</td>\n",
       "      <td>0.000000</td>\n",
       "      <td>0.000000</td>\n",
       "      <td>0.000000</td>\n",
       "      <td>0.000000</td>\n",
       "      <td>0.000000</td>\n",
       "      <td>4204.815476</td>\n",
       "      <td>2543.000000</td>\n",
       "    </tr>\n",
       "    <tr>\n",
       "      <th>50%</th>\n",
       "      <td>5.000000</td>\n",
       "      <td>435.000000</td>\n",
       "      <td>1781.000000</td>\n",
       "      <td>1.690000e+05</td>\n",
       "      <td>2.000000</td>\n",
       "      <td>2.000000</td>\n",
       "      <td>1885.000000</td>\n",
       "      <td>0.000000</td>\n",
       "      <td>85.000000</td>\n",
       "      <td>4547.000000</td>\n",
       "      <td>...</td>\n",
       "      <td>0.000000</td>\n",
       "      <td>0.000000</td>\n",
       "      <td>0.000000</td>\n",
       "      <td>0.000000</td>\n",
       "      <td>0.000000</td>\n",
       "      <td>0.000000</td>\n",
       "      <td>0.000000</td>\n",
       "      <td>0.000000</td>\n",
       "      <td>6428.125413</td>\n",
       "      <td>4936.000000</td>\n",
       "    </tr>\n",
       "    <tr>\n",
       "      <th>75%</th>\n",
       "      <td>5.000000</td>\n",
       "      <td>505.000000</td>\n",
       "      <td>1997.000000</td>\n",
       "      <td>2.240000e+05</td>\n",
       "      <td>2.000000</td>\n",
       "      <td>3.000000</td>\n",
       "      <td>2120.000000</td>\n",
       "      <td>0.000000</td>\n",
       "      <td>110.000000</td>\n",
       "      <td>6008.000000</td>\n",
       "      <td>...</td>\n",
       "      <td>0.000000</td>\n",
       "      <td>0.000000</td>\n",
       "      <td>0.000000</td>\n",
       "      <td>0.000000</td>\n",
       "      <td>0.000000</td>\n",
       "      <td>0.000000</td>\n",
       "      <td>0.000000</td>\n",
       "      <td>0.000000</td>\n",
       "      <td>10428.544304</td>\n",
       "      <td>10356.000000</td>\n",
       "    </tr>\n",
       "    <tr>\n",
       "      <th>max</th>\n",
       "      <td>5.000000</td>\n",
       "      <td>11500.000000</td>\n",
       "      <td>5000.000000</td>\n",
       "      <td>3.000000e+06</td>\n",
       "      <td>3.000000</td>\n",
       "      <td>3.000000</td>\n",
       "      <td>3500.000000</td>\n",
       "      <td>1.000000</td>\n",
       "      <td>400.000000</td>\n",
       "      <td>20000.000000</td>\n",
       "      <td>...</td>\n",
       "      <td>1.000000</td>\n",
       "      <td>1.000000</td>\n",
       "      <td>1.000000</td>\n",
       "      <td>1.000000</td>\n",
       "      <td>1.000000</td>\n",
       "      <td>1.000000</td>\n",
       "      <td>1.000000</td>\n",
       "      <td>1.000000</td>\n",
       "      <td>66684.750000</td>\n",
       "      <td>63805.000000</td>\n",
       "    </tr>\n",
       "  </tbody>\n",
       "</table>\n",
       "<p>8 rows × 65 columns</p>\n",
       "</div>"
      ],
      "text/plain": [
       "           Nr_Doors  Luggagerack_final  Capacity_final  Speedometer_final  \\\n",
       "count  84660.000000       84660.000000    84660.000000       8.466000e+04   \n",
       "mean       4.512662         491.174167     1829.968840       1.678876e+05   \n",
       "std        0.825346         673.207518      572.759831       1.093949e+05   \n",
       "min        2.000000           2.000000        1.000000       1.000000e+00   \n",
       "25%        4.000000         320.000000     1399.000000       1.075530e+05   \n",
       "50%        5.000000         435.000000     1781.000000       1.690000e+05   \n",
       "75%        5.000000         505.000000     1997.000000       2.240000e+05   \n",
       "max        5.000000       11500.000000     5000.000000       3.000000e+06   \n",
       "\n",
       "       Nr_Person_gr     Rating_gr  WeightTotal_final  Flag_Guarantee  \\\n",
       "count  84660.000000  84660.000000       84660.000000    84660.000000   \n",
       "mean       1.990421      2.308942        1910.575207        0.023104   \n",
       "std        0.395393      0.482175         371.786284        0.150235   \n",
       "min        1.000000      1.000000           1.000000        0.000000   \n",
       "25%        2.000000      2.000000        1650.000000        0.000000   \n",
       "50%        2.000000      2.000000        1885.000000        0.000000   \n",
       "75%        2.000000      3.000000        2120.000000        0.000000   \n",
       "max        3.000000      3.000000        3500.000000        1.000000   \n",
       "\n",
       "       Performance_kW_final     Age_final      ...             LANCIA  \\\n",
       "count          84660.000000  84660.000000      ...       84660.000000   \n",
       "mean              93.338353   4563.170541      ...           0.003118   \n",
       "std               40.369691   2300.228812      ...           0.055755   \n",
       "min                1.000000    560.000000      ...           0.000000   \n",
       "25%               66.000000   2813.000000      ...           0.000000   \n",
       "50%               85.000000   4547.000000      ...           0.000000   \n",
       "75%              110.000000   6008.000000      ...           0.000000   \n",
       "max              400.000000  20000.000000      ...           1.000000   \n",
       "\n",
       "             JAGUAR          SAAB          JEEP       PORSCHE         ROVER  \\\n",
       "count  84660.000000  84660.000000  84660.000000  84660.000000  84660.000000   \n",
       "mean       0.002870      0.002764      0.002292      0.001618      0.001488   \n",
       "std        0.053499      0.052501      0.047815      0.040195      0.038550   \n",
       "min        0.000000      0.000000      0.000000      0.000000      0.000000   \n",
       "25%        0.000000      0.000000      0.000000      0.000000      0.000000   \n",
       "50%        0.000000      0.000000      0.000000      0.000000      0.000000   \n",
       "75%        0.000000      0.000000      0.000000      0.000000      0.000000   \n",
       "max        1.000000      1.000000      1.000000      1.000000      1.000000   \n",
       "\n",
       "           DAIHATSU     SSANGYONG     Price_avg      PriceEUR  \n",
       "count  84660.000000  84660.000000  84660.000000  84660.000000  \n",
       "mean       0.001406      0.001252   8027.982766   8012.831798  \n",
       "std        0.037465      0.035363   5635.179540   8313.857154  \n",
       "min        0.000000      0.000000    407.000000    153.000000  \n",
       "25%        0.000000      0.000000   4204.815476   2543.000000  \n",
       "50%        0.000000      0.000000   6428.125413   4936.000000  \n",
       "75%        0.000000      0.000000  10428.544304  10356.000000  \n",
       "max        1.000000      1.000000  66684.750000  63805.000000  \n",
       "\n",
       "[8 rows x 65 columns]"
      ]
     },
     "execution_count": 3,
     "metadata": {},
     "output_type": "execute_result"
    }
   ],
   "source": [
    "#check the dataset\n",
    "df_cars_final.describe()"
   ]
  },
  {
   "cell_type": "markdown",
   "metadata": {},
   "source": [
    "## 1. Check the correlation"
   ]
  },
  {
   "cell_type": "code",
   "execution_count": 4,
   "metadata": {
    "scrolled": true
   },
   "outputs": [
    {
     "data": {
      "text/plain": [
       "<matplotlib.axes._subplots.AxesSubplot at 0x1a22c48898>"
      ]
     },
     "execution_count": 4,
     "metadata": {},
     "output_type": "execute_result"
    },
    {
     "data": {
      "image/png": "[encoded data removed]",
      "text/plain": [
       "<Figure size 1152x576 with 2 Axes>"
      ]
     },
     "metadata": {
      "needs_background": "light"
     },
     "output_type": "display_data"
    }
   ],
   "source": [
    "#heatmap for the correlation\n",
    "#without the producers\n",
    "\n",
    "df_cars_final_temp=df_cars_final.iloc[:,:28]\n",
    "df_cars_final_temp.head()\n",
    "df_corr=df_cars_final_temp.corr()\n",
    "plt.figure(figsize=(16,8))\n",
    "sns.heatmap(df_corr, cmap='RdBu')\n",
    "#plt.savefig('pictures/correlation_heatmap')\n"
   ]
  },
  {
   "cell_type": "code",
   "execution_count": 5,
   "metadata": {
    "scrolled": true
   },
   "outputs": [
    {
     "data": {
      "text/plain": [
       "Index(['Nr_Doors', 'Luggagerack_final', 'Capacity_final', 'Speedometer_final',\n",
       "       'Nr_Person_gr', 'Rating_gr', 'WeightTotal_final', 'Flag_Guarantee',\n",
       "       'Performance_kW_final', 'Age_year_final', 'Flag_back_w', 'Flag_diesel',\n",
       "       'Flag_electro', 'A', 'B', 'C', 'D', 'E', 'F', 'S', 'SUV', 'OPEL',\n",
       "       'VOLKSWAGEN', 'BMW', 'FORD', 'MERCEDES-BENZ', 'AUDI', 'RENAULT',\n",
       "       'TOYOTA', 'SKODA', 'PEUGEOT', 'MAZDA', 'SUZUKI', 'FIAT', 'CITROEN',\n",
       "       'NISSAN', 'HONDA', 'VOLVO', 'SEAT', 'HYUNDAI', 'KIA', 'MITSUBISHI',\n",
       "       'ALFA ROMEO', 'CHEVROLET', 'DAEWOO', 'DACIA', 'CHRYSLER', 'SMART',\n",
       "       'LADA', 'LAND ROVER', 'MINI', 'LEXUS', 'SUBARU', 'LANCIA', 'JAGUAR',\n",
       "       'SAAB', 'JEEP', 'PORSCHE', 'ROVER', 'DAIHATSU', 'SSANGYONG',\n",
       "       'Price_avg', 'PriceEUR'],\n",
       "      dtype='object')"
      ]
     },
     "execution_count": 5,
     "metadata": {},
     "output_type": "execute_result"
    }
   ],
   "source": [
    "#there is large correlation between the Performance features - we need to drop one - drop Performance_LE_final\n",
    "#there is large correlation between the Pweight variables - we need to drop one - drop WeightOwn\n",
    "#large negativ correlation between flag_diesel and flag_benzin - drop flag_benzin\n",
    "#large negativ correlation between flag_first_w and flag_back_w - drop flag_first_w\n",
    "#drop the Age and keep the Age in years variable\n",
    "\n",
    "#df_cars_final=df_cars_final.drop(['Performance_LE_final', 'WeightOwn_final', 'Flag_benzin', 'Age_final', 'Flag_first_w'], axis=1)\n",
    "df_cars_final=df_cars_final.drop( ['Age_final', 'Flag_first_w'], axis=1)\n",
    "\n",
    "df_cars_final.columns\n"
   ]
  },
  {
   "cell_type": "markdown",
   "metadata": {},
   "source": [
    "## 2. Scale and split the dataset"
   ]
  },
  {
   "cell_type": "markdown",
   "metadata": {},
   "source": [
    "### 2.1 Create the feature matrix and the target variable"
   ]
  },
  {
   "cell_type": "code",
   "execution_count": 6,
   "metadata": {
    "scrolled": true
   },
   "outputs": [
    {
     "data": {
      "text/html": [
       "<div>\n",
       "<style scoped>\n",
       "    .dataframe tbody tr th:only-of-type {\n",
       "        vertical-align: middle;\n",
       "    }\n",
       "\n",
       "    .dataframe tbody tr th {\n",
       "        vertical-align: top;\n",
       "    }\n",
       "\n",
       "    .dataframe thead th {\n",
       "        text-align: right;\n",
       "    }\n",
       "</style>\n",
       "<table border=\"1\" class=\"dataframe\">\n",
       "  <thead>\n",
       "    <tr style=\"text-align: right;\">\n",
       "      <th></th>\n",
       "      <th>Nr_Doors</th>\n",
       "      <th>Luggagerack_final</th>\n",
       "      <th>Capacity_final</th>\n",
       "      <th>Speedometer_final</th>\n",
       "      <th>Nr_Person_gr</th>\n",
       "      <th>Rating_gr</th>\n",
       "      <th>WeightTotal_final</th>\n",
       "      <th>Flag_Guarantee</th>\n",
       "      <th>Performance_kW_final</th>\n",
       "      <th>Age_year_final</th>\n",
       "      <th>...</th>\n",
       "      <th>SUBARU</th>\n",
       "      <th>LANCIA</th>\n",
       "      <th>JAGUAR</th>\n",
       "      <th>SAAB</th>\n",
       "      <th>JEEP</th>\n",
       "      <th>PORSCHE</th>\n",
       "      <th>ROVER</th>\n",
       "      <th>DAIHATSU</th>\n",
       "      <th>SSANGYONG</th>\n",
       "      <th>Price_avg</th>\n",
       "    </tr>\n",
       "  </thead>\n",
       "  <tbody>\n",
       "    <tr>\n",
       "      <th>0</th>\n",
       "      <td>5.0</td>\n",
       "      <td>450.0</td>\n",
       "      <td>1995.0</td>\n",
       "      <td>196624.0</td>\n",
       "      <td>3</td>\n",
       "      <td>3</td>\n",
       "      <td>2320.0</td>\n",
       "      <td>0</td>\n",
       "      <td>110.0</td>\n",
       "      <td>11.0</td>\n",
       "      <td>...</td>\n",
       "      <td>0</td>\n",
       "      <td>0</td>\n",
       "      <td>0</td>\n",
       "      <td>0</td>\n",
       "      <td>0</td>\n",
       "      <td>0</td>\n",
       "      <td>0</td>\n",
       "      <td>0</td>\n",
       "      <td>0</td>\n",
       "      <td>14851.831050</td>\n",
       "    </tr>\n",
       "    <tr>\n",
       "      <th>1</th>\n",
       "      <td>5.0</td>\n",
       "      <td>280.0</td>\n",
       "      <td>1197.0</td>\n",
       "      <td>38000.0</td>\n",
       "      <td>2</td>\n",
       "      <td>3</td>\n",
       "      <td>1620.0</td>\n",
       "      <td>0</td>\n",
       "      <td>66.0</td>\n",
       "      <td>5.0</td>\n",
       "      <td>...</td>\n",
       "      <td>0</td>\n",
       "      <td>0</td>\n",
       "      <td>0</td>\n",
       "      <td>0</td>\n",
       "      <td>0</td>\n",
       "      <td>0</td>\n",
       "      <td>0</td>\n",
       "      <td>0</td>\n",
       "      <td>0</td>\n",
       "      <td>3232.922631</td>\n",
       "    </tr>\n",
       "    <tr>\n",
       "      <th>2</th>\n",
       "      <td>5.0</td>\n",
       "      <td>500.0</td>\n",
       "      <td>1998.0</td>\n",
       "      <td>250000.0</td>\n",
       "      <td>2</td>\n",
       "      <td>2</td>\n",
       "      <td>2005.0</td>\n",
       "      <td>0</td>\n",
       "      <td>96.0</td>\n",
       "      <td>11.0</td>\n",
       "      <td>...</td>\n",
       "      <td>0</td>\n",
       "      <td>0</td>\n",
       "      <td>0</td>\n",
       "      <td>0</td>\n",
       "      <td>0</td>\n",
       "      <td>0</td>\n",
       "      <td>0</td>\n",
       "      <td>0</td>\n",
       "      <td>0</td>\n",
       "      <td>7287.400570</td>\n",
       "    </tr>\n",
       "    <tr>\n",
       "      <th>3</th>\n",
       "      <td>5.0</td>\n",
       "      <td>560.0</td>\n",
       "      <td>1995.0</td>\n",
       "      <td>249000.0</td>\n",
       "      <td>2</td>\n",
       "      <td>2</td>\n",
       "      <td>2365.0</td>\n",
       "      <td>0</td>\n",
       "      <td>135.0</td>\n",
       "      <td>8.0</td>\n",
       "      <td>...</td>\n",
       "      <td>0</td>\n",
       "      <td>0</td>\n",
       "      <td>0</td>\n",
       "      <td>0</td>\n",
       "      <td>0</td>\n",
       "      <td>0</td>\n",
       "      <td>0</td>\n",
       "      <td>0</td>\n",
       "      <td>0</td>\n",
       "      <td>14430.805659</td>\n",
       "    </tr>\n",
       "    <tr>\n",
       "      <th>4</th>\n",
       "      <td>5.0</td>\n",
       "      <td>295.0</td>\n",
       "      <td>1388.0</td>\n",
       "      <td>71000.0</td>\n",
       "      <td>2</td>\n",
       "      <td>2</td>\n",
       "      <td>1495.0</td>\n",
       "      <td>0</td>\n",
       "      <td>71.0</td>\n",
       "      <td>8.0</td>\n",
       "      <td>...</td>\n",
       "      <td>0</td>\n",
       "      <td>0</td>\n",
       "      <td>0</td>\n",
       "      <td>0</td>\n",
       "      <td>0</td>\n",
       "      <td>0</td>\n",
       "      <td>0</td>\n",
       "      <td>0</td>\n",
       "      <td>0</td>\n",
       "      <td>4588.749014</td>\n",
       "    </tr>\n",
       "  </tbody>\n",
       "</table>\n",
       "<p>5 rows × 62 columns</p>\n",
       "</div>"
      ],
      "text/plain": [
       "   Nr_Doors  Luggagerack_final  Capacity_final  Speedometer_final  \\\n",
       "0       5.0              450.0          1995.0           196624.0   \n",
       "1       5.0              280.0          1197.0            38000.0   \n",
       "2       5.0              500.0          1998.0           250000.0   \n",
       "3       5.0              560.0          1995.0           249000.0   \n",
       "4       5.0              295.0          1388.0            71000.0   \n",
       "\n",
       "   Nr_Person_gr  Rating_gr  WeightTotal_final  Flag_Guarantee  \\\n",
       "0             3          3             2320.0               0   \n",
       "1             2          3             1620.0               0   \n",
       "2             2          2             2005.0               0   \n",
       "3             2          2             2365.0               0   \n",
       "4             2          2             1495.0               0   \n",
       "\n",
       "   Performance_kW_final  Age_year_final      ...       SUBARU  LANCIA  JAGUAR  \\\n",
       "0                 110.0            11.0      ...            0       0       0   \n",
       "1                  66.0             5.0      ...            0       0       0   \n",
       "2                  96.0            11.0      ...            0       0       0   \n",
       "3                 135.0             8.0      ...            0       0       0   \n",
       "4                  71.0             8.0      ...            0       0       0   \n",
       "\n",
       "   SAAB  JEEP  PORSCHE  ROVER  DAIHATSU  SSANGYONG     Price_avg  \n",
       "0     0     0        0      0         0          0  14851.831050  \n",
       "1     0     0        0      0         0          0   3232.922631  \n",
       "2     0     0        0      0         0          0   7287.400570  \n",
       "3     0     0        0      0         0          0  14430.805659  \n",
       "4     0     0        0      0         0          0   4588.749014  \n",
       "\n",
       "[5 rows x 62 columns]"
      ]
     },
     "execution_count": 6,
     "metadata": {},
     "output_type": "execute_result"
    }
   ],
   "source": [
    "y=df_cars_final['PriceEUR']\n",
    "X=df_cars_final.drop(['PriceEUR'], axis=1)\n",
    "\n",
    "X.head()"
   ]
  },
  {
   "cell_type": "markdown",
   "metadata": {},
   "source": [
    "### 2.2 Scale the feature matrix"
   ]
  },
  {
   "cell_type": "code",
   "execution_count": 7,
   "metadata": {
    "scrolled": true
   },
   "outputs": [],
   "source": [
    "#scale the dataset: the variables have different scales \n",
    "\n",
    "std_scaler = StandardScaler()\n",
    "X_scaled = std_scaler.fit_transform(X)"
   ]
  },
  {
   "cell_type": "markdown",
   "metadata": {},
   "source": [
    "### 2.3 Split the data"
   ]
  },
  {
   "cell_type": "code",
   "execution_count": 8,
   "metadata": {
    "scrolled": true
   },
   "outputs": [],
   "source": [
    "from sklearn.model_selection import train_test_split\n",
    "X_train, X_test, y_train, y_test = train_test_split(X_scaled, y,test_size=0.3,random_state=0)"
   ]
  },
  {
   "cell_type": "code",
   "execution_count": 9,
   "metadata": {
    "scrolled": true
   },
   "outputs": [
    {
     "data": {
      "text/plain": [
       "count    59262.000000\n",
       "mean      7984.317978\n",
       "std       8294.972000\n",
       "min        153.000000\n",
       "25%       2517.000000\n",
       "50%       4813.500000\n",
       "75%      10356.000000\n",
       "max      63805.000000\n",
       "Name: PriceEUR, dtype: float64"
      ]
     },
     "execution_count": 9,
     "metadata": {},
     "output_type": "execute_result"
    }
   ],
   "source": [
    "#check the distribution of the training and test target variable\n",
    "y_train.describe()"
   ]
  },
  {
   "cell_type": "code",
   "execution_count": 10,
   "metadata": {
    "scrolled": true
   },
   "outputs": [
    {
     "data": {
      "text/plain": [
       "count    25398.000000\n",
       "mean      8079.364044\n",
       "std       8357.542043\n",
       "min        156.000000\n",
       "25%       2546.000000\n",
       "50%       5063.000000\n",
       "75%      10355.750000\n",
       "max      63727.000000\n",
       "Name: PriceEUR, dtype: float64"
      ]
     },
     "execution_count": 10,
     "metadata": {},
     "output_type": "execute_result"
    }
   ],
   "source": [
    "y_test.describe()"
   ]
  },
  {
   "cell_type": "markdown",
   "metadata": {},
   "source": [
    "## 3. Multivariate analysis"
   ]
  },
  {
   "cell_type": "markdown",
   "metadata": {},
   "source": [
    "### 3.1 Linear Regression"
   ]
  },
  {
   "cell_type": "code",
   "execution_count": 11,
   "metadata": {
    "scrolled": true
   },
   "outputs": [
    {
     "name": "stdout",
     "output_type": "stream",
     "text": [
      "\n",
      "==================================================================================\n",
      "Testing LinearRegression\n",
      "Learing time 0.24363088607788086s\n",
      "Predicting time 0.006502866744995117s\n",
      "=================================== Results Training set======================================\n",
      "         bias\n",
      "MSE       16817175.465742562\n",
      "R2        0.7555834919067153\n",
      "=================================== Results Testing set======================================\n",
      "         bias\n",
      "MSE       16948952.08000276\n",
      "R2        0.7573374194454741\n",
      "===================================================================================\n"
     ]
    },
    {
     "data": {
      "text/plain": [
       "LinearRegression(copy_X=True, fit_intercept=True, n_jobs=None,\n",
       "         normalize=False)"
      ]
     },
     "execution_count": 11,
     "metadata": {},
     "output_type": "execute_result"
    }
   ],
   "source": [
    "lr=LinearRegression()\n",
    "cars_functions.test_classifier(X_train, y_train, X_test, y_test, lr)"
   ]
  },
  {
   "cell_type": "markdown",
   "metadata": {},
   "source": [
    "### 3.2 Linear regression  with SelectKBest"
   ]
  },
  {
   "cell_type": "code",
   "execution_count": 12,
   "metadata": {
    "scrolled": true
   },
   "outputs": [
    {
     "data": {
      "image/png": "[encoded data removed]",
      "text/plain": [
       "<Figure size 1080x432 with 1 Axes>"
      ]
     },
     "metadata": {
      "needs_background": "light"
     },
     "output_type": "display_data"
    }
   ],
   "source": [
    "#check the number of features - if I don't include all the feature, how does the model perform?\n",
    "#after 15 features it makes not so much difference, if I involve more\n",
    "training_error=[]\n",
    "test_error=[]\n",
    "training_score=[]\n",
    "test_score=[]\n",
    "n_col=len(X.columns)\n",
    "\n",
    "vals=np.arange(1,n_col+1)\n",
    "for k in vals:\n",
    "    pip=Pipeline([('sel', SelectKBest(f_regression, k)), ('lr', LinearRegression())])\n",
    "    pip.fit(X_train, y_train)\n",
    "    test_error.append(mean_squared_error(pip.predict(X_test), y_test))\n",
    "    training_error.append(mean_squared_error(pip.predict(X_train), y_train))\n",
    "    test_score.append(r2_score(pip.predict(X_test), y_test))\n",
    "    training_score.append(r2_score(pip.predict(X_train), y_train))\n",
    "    \n",
    "fig, ax=plt.subplots(figsize=(15,6))\n",
    "ax.plot(vals, training_score, label='Training score')\n",
    "ax.plot(vals, test_score,'--', label='Test score')\n",
    "\n",
    "plt.ylabel('R2 score')\n",
    "plt.xlabel('Number of features')\n",
    "plt.legend(loc='best')\n",
    "plt.title('R2 score of linear regression depending on the number of features')\n",
    "plt.savefig('pictures/select_k_linreg')"
   ]
  },
  {
   "cell_type": "markdown",
   "metadata": {
    "collapsed": true
   },
   "source": [
    "### 3.3 Linear Regression with polinomial features"
   ]
  },
  {
   "cell_type": "code",
   "execution_count": 13,
   "metadata": {
    "scrolled": true
   },
   "outputs": [],
   "source": [
    "#Build a pipeline for polynomial fitting, fit polynomials of degree 1 to the number of features, \n",
    "#and plot your training and testing errors for each\n",
    "degrees=4\n",
    "\n",
    "poly_training_error=[]\n",
    "poly_test_error=[]\n",
    "poly_training_r2=[]\n",
    "poly_test_r2=[]\n",
    "for d in np.arange(1,degrees):\n",
    "    pip=Pipeline([('sel', SelectKBest(f_regression, 20)), ('poly', PolynomialFeatures(degree=d)), ('lr', LinearRegression())])\n",
    "    pip.fit(X_train, y_train)\n",
    "    poly_test_error.append(mean_squared_error(pip.predict(X_test), y_test))\n",
    "    poly_training_error.append(mean_squared_error(pip.predict(X_train), y_train))\n",
    "    poly_test_r2.append(r2_score(pip.predict(X_test), y_test))\n",
    "    poly_training_r2.append(r2_score(pip.predict(X_train), y_train))"
   ]
  },
  {
   "cell_type": "code",
   "execution_count": 14,
   "metadata": {
    "scrolled": true
   },
   "outputs": [
    {
     "data": {
      "image/png": "[encoded data removed]",
      "text/plain": [
       "<Figure size 432x288 with 1 Axes>"
      ]
     },
     "metadata": {
      "needs_background": "light"
     },
     "output_type": "display_data"
    }
   ],
   "source": [
    "fig, ax=plt.subplots()\n",
    "\n",
    "plt.scatter(np.arange(1,degrees), poly_training_r2,c='b', label='Training error')\n",
    "plt.scatter(np.arange(1,degrees), poly_test_r2,c='g', label='Test error')\n",
    "plt.legend(loc='upper left')\n",
    "plt.ylabel('R2 score')\n",
    "plt.xlabel('Degree of polynomial regression')\n",
    "plt.title('R2 score of polynomial regression with the 20 best features')\n",
    "plt.savefig('pictures/select_k_linreg_poli20')"
   ]
  },
  {
   "cell_type": "markdown",
   "metadata": {},
   "source": [
    "The plot show, the with 2 degree we could improve our model, but with 3-degree polynomials there is a significant overfitting in the model. The R2 of the test set is very low compared to the training set - the model can't generalize well. "
   ]
  },
  {
   "cell_type": "markdown",
   "metadata": {
    "collapsed": true
   },
   "source": [
    "### 3.4 Ridge regression with parameter tuning"
   ]
  },
  {
   "cell_type": "code",
   "execution_count": 15,
   "metadata": {
    "scrolled": true
   },
   "outputs": [],
   "source": [
    "#I tried different alphas by the Ridge regression\n",
    "\n",
    "ridge = Ridge(random_state=0)\n",
    "alphas=[10**i for i in range(-7,6)]\n",
    "\n",
    "parameters = [{'alpha': alphas}]\n",
    "\n",
    "clf = GridSearchCV(ridge, parameters, cv=3)\n",
    "clf.fit(X_train, y_train)\n",
    "\n",
    "scores_ridge = clf.cv_results_['mean_test_score']\n",
    "std_error_ridge = clf.cv_results_['std_test_score']"
   ]
  },
  {
   "cell_type": "code",
   "execution_count": 16,
   "metadata": {
    "scrolled": true
   },
   "outputs": [
    {
     "data": {
      "text/plain": [
       "array([0.75454021, 0.75454021, 0.75454021, 0.75454021, 0.75454021,\n",
       "       0.75454021, 0.75454023, 0.75454038, 0.75454043, 0.75448661,\n",
       "       0.75362563, 0.73779561, 0.56159031])"
      ]
     },
     "execution_count": 16,
     "metadata": {},
     "output_type": "execute_result"
    }
   ],
   "source": [
    "clf.cv_results_['mean_test_score']"
   ]
  },
  {
   "cell_type": "code",
   "execution_count": 17,
   "metadata": {
    "scrolled": true
   },
   "outputs": [
    {
     "data": {
      "image/png": "[encoded data removed]",
      "text/plain": [
       "<Figure size 720x288 with 1 Axes>"
      ]
     },
     "metadata": {
      "needs_background": "light"
     },
     "output_type": "display_data"
    }
   ],
   "source": [
    "#The performance of the model is very similar for each alpha between 10**-7 and 10**3, afterwards it starts to decrease\n",
    "fig, ax= plt.subplots(figsize=(10,4))\n",
    "ind=range(len(alphas))\n",
    "plt.plot(ind, scores_ridge)\n",
    "\n",
    "# plot error lines showing +/- std. errors of the scores\n",
    "\n",
    "plt.plot(ind, scores_ridge + std_error_ridge, 'b--')\n",
    "plt.plot(ind, scores_ridge - std_error_ridge, 'b--')\n",
    "\n",
    "plt.fill_between(ind, scores_ridge + std_error_ridge, scores_ridge - std_error_ridge, alpha=0.2)\n",
    "\n",
    "plt.ylabel('CV score +/- std error')\n",
    "plt.xlabel('alpha')\n",
    "plt.title('Ridge Regression')\n",
    "plt.xticks(ind, alphas)\n",
    "plt.show()"
   ]
  },
  {
   "cell_type": "markdown",
   "metadata": {
    "collapsed": true
   },
   "source": [
    "### 3.5 Lasso regression with parameter tuning"
   ]
  },
  {
   "cell_type": "code",
   "execution_count": 18,
   "metadata": {
    "scrolled": true
   },
   "outputs": [],
   "source": [
    "lasso = Lasso(random_state=0)\n",
    "alphas=[10**i for i in range(-7,6)]\n",
    "\n",
    "parameters = [{'alpha': alphas}]\n",
    "\n",
    "clf = GridSearchCV(lasso, parameters, cv=3)\n",
    "clf.fit(X_train, y_train)\n",
    "\n",
    "scores_lasso = clf.cv_results_['mean_test_score']\n",
    "std_error_lasso = clf.cv_results_['std_test_score']"
   ]
  },
  {
   "cell_type": "code",
   "execution_count": 19,
   "metadata": {
    "scrolled": true
   },
   "outputs": [
    {
     "data": {
      "image/png": "[encoded data removed]",
      "text/plain": [
       "<Figure size 576x216 with 1 Axes>"
      ]
     },
     "metadata": {
      "needs_background": "light"
     },
     "output_type": "display_data"
    }
   ],
   "source": [
    "fig, ax= plt.subplots(figsize=(8,3))\n",
    "ind=range(len(alphas))\n",
    "plt.plot(ind, scores_lasso)\n",
    "\n",
    "# plot error lines showing +/- std. errors of the scores\n",
    "\n",
    "plt.plot(ind, scores_lasso + std_error_lasso, 'b--')\n",
    "plt.plot(ind, scores_lasso - std_error_lasso, 'b--')\n",
    "\n",
    "plt.fill_between(ind, scores_lasso + std_error_lasso, scores_lasso - std_error_lasso, alpha=0.2)\n",
    "plt.xticks(ind, alphas)\n",
    "\n",
    "plt.ylabel('CV score +/- std error')\n",
    "plt.xlabel('alpha')\n",
    "plt.title('Lasso Regression')\n",
    "ax.set_xticklabels(alphas)\n",
    "plt.show()"
   ]
  },
  {
   "cell_type": "markdown",
   "metadata": {},
   "source": [
    "The lasso and ridge regressions have very similar performance.\n",
    "The performance of the model is doesn't change significantly for alphas between 10**-7 and 10**3, afterwards it starts to decrease.\n"
   ]
  },
  {
   "cell_type": "markdown",
   "metadata": {
    "collapsed": true
   },
   "source": [
    "### 3.6 Decision Tree Regressor with parameter tuning"
   ]
  },
  {
   "cell_type": "code",
   "execution_count": 20,
   "metadata": {
    "scrolled": true
   },
   "outputs": [],
   "source": [
    "#all together there are 65 features. \n",
    "params={\"max_features\":[\"auto\",\"sqrt\",\"log2\"], \"min_samples_split\":[50, 80,100], \"max_depth\":[5,8, 10],\"min_samples_leaf\":[30, 50,80]}\n",
    "\n",
    "dtree=DecisionTreeRegressor(random_state=0)\n",
    "\n",
    "clf = GridSearchCV(dtree, params, cv=3)\n",
    "clf.fit(X_train, y_train)\n",
    "\n",
    "scores_tree = clf.cv_results_['mean_test_score']\n",
    "scores_tree_std = clf.cv_results_['std_test_score']"
   ]
  },
  {
   "cell_type": "code",
   "execution_count": 21,
   "metadata": {
    "scrolled": true
   },
   "outputs": [
    {
     "name": "stdout",
     "output_type": "stream",
     "text": [
      "Best parameter:  {'min_samples_leaf': 30, 'max_depth': 10, 'min_samples_split': 50, 'max_features': 'auto'}\n",
      "Best score:  0.9111668356479384\n"
     ]
    }
   ],
   "source": [
    "print('Best parameter: ', clf.best_params_ )\n",
    "print('Best score: ',clf.best_score_)"
   ]
  },
  {
   "cell_type": "code",
   "execution_count": 22,
   "metadata": {
    "scrolled": true
   },
   "outputs": [
    {
     "name": "stdout",
     "output_type": "stream",
     "text": [
      "\n",
      "==================================================================================\n",
      "Testing DecisionTreeRegressor\n",
      "Learing time 0.6345269680023193s\n",
      "Predicting time 0.020090818405151367s\n",
      "=================================== Results Training set======================================\n",
      "         bias\n",
      "MSE       4889218.528322048\n",
      "R2        0.9289413538895547\n",
      "=================================== Results Testing set======================================\n",
      "         bias\n",
      "MSE       5934165.221127659\n",
      "R2        0.9150390042287782\n",
      "===================================================================================\n"
     ]
    },
    {
     "data": {
      "text/plain": [
       "DecisionTreeRegressor(criterion='mse', max_depth=10, max_features='auto',\n",
       "           max_leaf_nodes=None, min_impurity_decrease=0.0,\n",
       "           min_impurity_split=None, min_samples_leaf=30,\n",
       "           min_samples_split=50, min_weight_fraction_leaf=0.0,\n",
       "           presort=False, random_state=0, splitter='best')"
      ]
     },
     "execution_count": 22,
     "metadata": {},
     "output_type": "execute_result"
    }
   ],
   "source": [
    "best_clf=clf.best_estimator_\n",
    "\n",
    "cars_functions.test_classifier(X_train, y_train, X_test, y_test, best_clf)"
   ]
  },
  {
   "cell_type": "code",
   "execution_count": 23,
   "metadata": {
    "scrolled": true
   },
   "outputs": [
    {
     "data": {
      "text/plain": [
       "<Figure size 432x288 with 0 Axes>"
      ]
     },
     "metadata": {},
     "output_type": "display_data"
    }
   ],
   "source": [
    "from io import StringIO\n",
    "#import StringIO.StringIO\n",
    "from IPython.display import Image  \n",
    "from sklearn.tree import export_graphviz\n",
    "import pydotplus\n",
    "dot_data = StringIO()\n",
    "export_graphviz(best_clf, out_file=dot_data, max_depth=3, feature_names=X.columns,\n",
    "                filled=True, rounded=True,\n",
    "                special_characters=True)\n",
    "graph = pydotplus.graph_from_dot_data(dot_data.getvalue())  \n",
    "Image(graph.create_png())\n",
    "plt.savefig('pictures/Decision_tree_depth_3')"
   ]
  },
  {
   "cell_type": "code",
   "execution_count": 24,
   "metadata": {
    "scrolled": true
   },
   "outputs": [
    {
     "data": {
      "text/plain": [
       "Index(['Nr_Doors', 'Luggagerack_final', 'Capacity_final', 'Speedometer_final',\n",
       "       'Nr_Person_gr', 'Rating_gr', 'WeightTotal_final', 'Flag_Guarantee',\n",
       "       'Performance_kW_final', 'Age_year_final', 'Flag_back_w', 'Flag_diesel',\n",
       "       'Flag_electro', 'A', 'B', 'C', 'D', 'E', 'F', 'S', 'SUV', 'OPEL',\n",
       "       'VOLKSWAGEN', 'BMW', 'FORD', 'MERCEDES-BENZ', 'AUDI', 'RENAULT',\n",
       "       'TOYOTA', 'SKODA', 'PEUGEOT', 'MAZDA', 'SUZUKI', 'FIAT', 'CITROEN',\n",
       "       'NISSAN', 'HONDA', 'VOLVO', 'SEAT', 'HYUNDAI', 'KIA', 'MITSUBISHI',\n",
       "       'ALFA ROMEO', 'CHEVROLET', 'DAEWOO', 'DACIA', 'CHRYSLER', 'SMART',\n",
       "       'LADA', 'LAND ROVER', 'MINI', 'LEXUS', 'SUBARU', 'LANCIA', 'JAGUAR',\n",
       "       'SAAB', 'JEEP', 'PORSCHE', 'ROVER', 'DAIHATSU', 'SSANGYONG',\n",
       "       'Price_avg'],\n",
       "      dtype='object')"
      ]
     },
     "execution_count": 24,
     "metadata": {},
     "output_type": "execute_result"
    }
   ],
   "source": [
    "X.columns"
   ]
  },
  {
   "cell_type": "code",
   "execution_count": 25,
   "metadata": {
    "scrolled": true
   },
   "outputs": [
    {
     "name": "stdout",
     "output_type": "stream",
     "text": [
      "Feature ranking:\n",
      "1. feature: Age_year_final (0.610706)\n",
      "2. feature: Performance_kW_final (0.235005)\n",
      "3. feature: Price_avg (0.046677)\n",
      "4. feature: Speedometer_final (0.044428)\n",
      "5. feature: Capacity_final (0.028253)\n",
      "6. feature: WeightTotal_final (0.018324)\n",
      "7. feature: Flag_back_w (0.007889)\n",
      "8. feature: Luggagerack_final (0.002272)\n",
      "9. feature: MERCEDES-BENZ (0.001762)\n",
      "10. feature: AUDI (0.001381)\n",
      "11. feature: Nr_Doors (0.001017)\n",
      "12. feature: E (0.000425)\n",
      "13. feature: Nr_Person_gr (0.000256)\n",
      "14. feature: TOYOTA (0.000228)\n",
      "15. feature: F (0.000186)\n"
     ]
    },
    {
     "data": {
      "image/png": "[encoded data removed]",
      "text/plain": [
       "<Figure size 864x288 with 1 Axes>"
      ]
     },
     "metadata": {
      "needs_background": "light"
     },
     "output_type": "display_data"
    }
   ],
   "source": [
    "#plot the best 15 features \n",
    "cars_functions.plot_feature_importance(best_clf, 15, X)"
   ]
  },
  {
   "cell_type": "markdown",
   "metadata": {},
   "source": [
    "### 3.7 Random Forest Regression "
   ]
  },
  {
   "cell_type": "code",
   "execution_count": 26,
   "metadata": {
    "scrolled": true
   },
   "outputs": [
    {
     "name": "stdout",
     "output_type": "stream",
     "text": [
      "\n",
      "==================================================================================\n",
      "Testing RandomForestRegressor\n",
      "Learing time 38.1932110786438s\n",
      "Predicting time 0.837273120880127s\n",
      "=================================== Results Training set======================================\n",
      "         bias\n",
      "MSE       4293442.753336626\n",
      "R2        0.9376002059557139\n",
      "=================================== Results Testing set======================================\n",
      "         bias\n",
      "MSE       5044237.526578624\n",
      "R2        0.9277803318251314\n",
      "===================================================================================\n"
     ]
    },
    {
     "data": {
      "text/plain": [
       "RandomForestRegressor(bootstrap=True, criterion='mse', max_depth=10,\n",
       "           max_features='auto', max_leaf_nodes=None,\n",
       "           min_impurity_decrease=0.0, min_impurity_split=None,\n",
       "           min_samples_leaf=30, min_samples_split=50,\n",
       "           min_weight_fraction_leaf=0.0, n_estimators=100, n_jobs=None,\n",
       "           oob_score=True, random_state=0, verbose=0, warm_start=False)"
      ]
     },
     "execution_count": 26,
     "metadata": {},
     "output_type": "execute_result"
    }
   ],
   "source": [
    "#parameters tuning is based on the decesion tree regressor, number of estimators=100\n",
    "rf=RandomForestRegressor(**clf.best_params_, random_state=0, n_estimators=100, oob_score=True)\n",
    "cars_functions.test_classifier(X_train, y_train, X_test, y_test, rf)"
   ]
  },
  {
   "cell_type": "code",
   "execution_count": 27,
   "metadata": {
    "scrolled": true
   },
   "outputs": [
    {
     "name": "stdout",
     "output_type": "stream",
     "text": [
      "0.9292390240585765\n"
     ]
    }
   ],
   "source": [
    "print(rf.oob_score_)"
   ]
  },
  {
   "cell_type": "markdown",
   "metadata": {},
   "source": [
    "The performance improved further if I used 100 decision trees instead of 1 decision tree"
   ]
  },
  {
   "cell_type": "code",
   "execution_count": 28,
   "metadata": {
    "scrolled": true
   },
   "outputs": [
    {
     "name": "stdout",
     "output_type": "stream",
     "text": [
      "Feature ranking:\n",
      "1. feature: Age_year_final (0.609112)\n",
      "2. feature: Performance_kW_final (0.246741)\n",
      "3. feature: Speedometer_final (0.048667)\n",
      "4. feature: Price_avg (0.046586)\n",
      "5. feature: WeightTotal_final (0.018294)\n",
      "6. feature: Capacity_final (0.014012)\n",
      "7. feature: Flag_back_w (0.008797)\n",
      "8. feature: Luggagerack_final (0.001659)\n",
      "9. feature: MERCEDES-BENZ (0.001625)\n",
      "10. feature: Nr_Doors (0.000981)\n",
      "11. feature: E (0.000746)\n",
      "12. feature: AUDI (0.000406)\n",
      "13. feature: C (0.000339)\n",
      "14. feature: Nr_Person_gr (0.000295)\n",
      "15. feature: Rating_gr (0.000261)\n"
     ]
    },
    {
     "data": {
      "image/png": "[encoded data removed]",
      "text/plain": [
       "<Figure size 864x288 with 1 Axes>"
      ]
     },
     "metadata": {
      "needs_background": "light"
     },
     "output_type": "display_data"
    }
   ],
   "source": [
    "#Feature importance by random forest:\n",
    "\n",
    "cars_functions.plot_feature_importance(rf, 15, X)"
   ]
  },
  {
   "cell_type": "markdown",
   "metadata": {
    "collapsed": true
   },
   "source": [
    "### 3.8 Support verctor machine"
   ]
  },
  {
   "cell_type": "code",
   "execution_count": 29,
   "metadata": {},
   "outputs": [],
   "source": [
    "from sklearn.svm import SVR\n",
    "params_svr=[{\"kernel\": [\"rbf\"], \"C\": [1e1,  1e3]},\n",
    "            {\"kernel\": [\"linear\"], \"C\": [1e1,  1e3]} ,\n",
    "            {\"kernel\": [\"poly\"], \"C\": [1e1,  1e3] }]\n",
    "\n",
    "\n",
    "svr =SVR()\n",
    "clf_svr=GridSearchCV(svr, params_svr, cv=3)\n",
    "                   \n",
    "clf_svr.fit(X_train, y_train)\n",
    "\n",
    "scores_svr = clf_svr.cv_results_['mean_test_score']\n",
    "scores_svr_std = clf_svr.cv_results_['std_test_score']"
   ]
  },
  {
   "cell_type": "code",
   "execution_count": 31,
   "metadata": {},
   "outputs": [
    {
     "name": "stdout",
     "output_type": "stream",
     "text": [
      "\n",
      "==================================================================================\n",
      "Testing SVR\n",
      "Learing time 395.2068409919739s\n",
      "Predicting time 397.3942139148712s\n",
      "=================================== Results Training set======================================\n",
      "         bias\n",
      "MSE       6593715.38787048\n",
      "R2        0.9041686343971853\n",
      "=================================== Results Testing set======================================\n",
      "         bias\n",
      "MSE       6877144.12688271\n",
      "R2        0.9015381285640823\n",
      "===================================================================================\n"
     ]
    },
    {
     "data": {
      "text/plain": [
       "SVR(C=1000.0, cache_size=200, coef0=0.0, degree=3, epsilon=0.1,\n",
       "  gamma='auto_deprecated', kernel='rbf', max_iter=-1, shrinking=True,\n",
       "  tol=0.001, verbose=False)"
      ]
     },
     "execution_count": 31,
     "metadata": {},
     "output_type": "execute_result"
    }
   ],
   "source": [
    "best_clf_svr=clf_svr.best_estimator_\n",
    "\n",
    "cars_functions.test_classifier(X_train, y_train, X_test, y_test, best_clf_svr)"
   ]
  },
  {
   "cell_type": "markdown",
   "metadata": {},
   "source": [
    "### 3.8. Boosting - AdaBoostRegressor"
   ]
  },
  {
   "cell_type": "code",
   "execution_count": 32,
   "metadata": {
    "scrolled": true
   },
   "outputs": [],
   "source": [
    "# Try out different number of estimators for AdaBoost Regression\n",
    "r2_test = []\n",
    "mse_test = []\n",
    "r2_train = []\n",
    "mse_train= []\n",
    "    \n",
    "dtree=DecisionTreeRegressor(**clf.best_params_)\n",
    "for i in np.arange(1,30):\n",
    "    boost = AdaBoostRegressor(dtree, n_estimators=i)\n",
    "    model = boost.fit(X_train, y_train)\n",
    "    predictions = model.predict(X_test)\n",
    "    predictions_train = model.predict(X_train)\n",
    "    r2_test.append(r2_score(y_test, predictions))\n",
    "    mse_test.append(mean_squared_error(y_test, predictions))\n",
    "    r2_train.append(r2_score(y_train, predictions_train))\n",
    "    mse_train.append(mean_squared_error(y_train, predictions_train))\n",
    "    "
   ]
  },
  {
   "cell_type": "code",
   "execution_count": 33,
   "metadata": {
    "scrolled": true
   },
   "outputs": [
    {
     "data": {
      "text/plain": [
       "Text(0.5, 1.0, 'R2 based on the number of estimators')"
      ]
     },
     "execution_count": 33,
     "metadata": {},
     "output_type": "execute_result"
    },
    {
     "data": {
      "image/png": "[encoded data removed]",
      "text/plain": [
       "<Figure size 432x288 with 1 Axes>"
      ]
     },
     "metadata": {
      "needs_background": "light"
     },
     "output_type": "display_data"
    }
   ],
   "source": [
    "#Plot the R2 for the test and training set\n",
    "plt.plot(np.arange(1,30), r2_test)\n",
    "plt.plot(np.arange(1,30), r2_train)\n",
    "\n",
    "plt.ylabel('r2')\n",
    "plt.xlabel('number of estimators')\n",
    "plt.title('R2 based on the number of estimators')\n"
   ]
  },
  {
   "cell_type": "code",
   "execution_count": 34,
   "metadata": {
    "scrolled": true
   },
   "outputs": [
    {
     "data": {
      "text/plain": [
       "Text(0.5, 1.0, 'MSE based on the number of estimators')"
      ]
     },
     "execution_count": 34,
     "metadata": {},
     "output_type": "execute_result"
    },
    {
     "data": {
      "image/png": "[encoded data removed]",
      "text/plain": [
       "<Figure size 432x288 with 1 Axes>"
      ]
     },
     "metadata": {
      "needs_background": "light"
     },
     "output_type": "display_data"
    }
   ],
   "source": [
    "#Plot the MSE for the test and training set\n",
    "\n",
    "plt.plot(np.arange(1,30), mse_test)\n",
    "plt.plot(np.arange(1,30), mse_train)\n",
    "\n",
    "plt.ylabel('MSE')\n",
    "plt.xlabel('number of estimators')\n",
    "plt.title('MSE based on the number of estimators')"
   ]
  },
  {
   "cell_type": "code",
   "execution_count": 35,
   "metadata": {
    "scrolled": true
   },
   "outputs": [
    {
     "name": "stdout",
     "output_type": "stream",
     "text": [
      "\n",
      "==================================================================================\n",
      "Testing AdaBoostRegressor\n",
      "Learing time 8.304710865020752s\n",
      "Predicting time 0.2960240840911865s\n",
      "=================================== Results Training set======================================\n",
      "         bias\n",
      "MSE       2816925.1038348502\n",
      "R2        0.9590595341743241\n",
      "=================================== Results Testing set======================================\n",
      "         bias\n",
      "MSE       4335038.981653679\n",
      "R2        0.9379341129099248\n",
      "===================================================================================\n"
     ]
    },
    {
     "data": {
      "text/plain": [
       "AdaBoostRegressor(base_estimator=DecisionTreeRegressor(criterion='mse', max_depth=10, max_features='auto',\n",
       "           max_leaf_nodes=None, min_impurity_decrease=0.0,\n",
       "           min_impurity_split=None, min_samples_leaf=30,\n",
       "           min_samples_split=50, min_weight_fraction_leaf=0.0,\n",
       "           presort=False, random_state=None, splitter='best'),\n",
       "         learning_rate=1.0, loss='linear', n_estimators=18,\n",
       "         random_state=None)"
      ]
     },
     "execution_count": 35,
     "metadata": {},
     "output_type": "execute_result"
    }
   ],
   "source": [
    "#n_estimators=18 -> best r2 and MSE\n",
    "\n",
    "boost = AdaBoostRegressor(dtree, n_estimators=18)\n",
    "cars_functions.test_classifier(X_train, y_train, X_test, y_test, boost)"
   ]
  },
  {
   "cell_type": "code",
   "execution_count": 36,
   "metadata": {
    "scrolled": true
   },
   "outputs": [
    {
     "name": "stdout",
     "output_type": "stream",
     "text": [
      "Feature ranking:\n",
      "1. feature: Age_year_final (0.609112)\n",
      "2. feature: Performance_kW_final (0.246741)\n",
      "3. feature: Speedometer_final (0.048667)\n",
      "4. feature: Price_avg (0.046586)\n",
      "5. feature: WeightTotal_final (0.018294)\n",
      "6. feature: Capacity_final (0.014012)\n",
      "7. feature: Flag_back_w (0.008797)\n",
      "8. feature: Luggagerack_final (0.001659)\n",
      "9. feature: MERCEDES-BENZ (0.001625)\n",
      "10. feature: Nr_Doors (0.000981)\n",
      "11. feature: E (0.000746)\n",
      "12. feature: AUDI (0.000406)\n",
      "13. feature: C (0.000339)\n",
      "14. feature: Nr_Person_gr (0.000295)\n",
      "15. feature: Rating_gr (0.000261)\n",
      "16. feature: Flag_diesel (0.000256)\n",
      "17. feature: SUV (0.000229)\n",
      "18. feature: VOLKSWAGEN (0.000181)\n"
     ]
    },
    {
     "data": {
      "image/png": "[encoded data removed]",
      "text/plain": [
       "<Figure size 864x288 with 1 Axes>"
      ]
     },
     "metadata": {
      "needs_background": "light"
     },
     "output_type": "display_data"
    }
   ],
   "source": [
    "#Feature importance by AdaBoost Regression\n",
    "\n",
    "cars_functions.plot_feature_importance(rf, 18, X)"
   ]
  },
  {
   "cell_type": "markdown",
   "metadata": {},
   "source": [
    "### 3.9. Random forest with less variables"
   ]
  },
  {
   "cell_type": "code",
   "execution_count": 53,
   "metadata": {},
   "outputs": [],
   "source": [
    "##delete\n",
    "def get_top_vars(clf, n, X):\n",
    "    importances = rf.feature_importances_\n",
    "    indices = np.argsort(importances)[::-1][:n]\n",
    "    return indices\n",
    "\n",
    "def build_classifier(clf, X_train, y_train, X_test, y_test):\n",
    "    model = clf.fit(X_train, y_train)\n",
    "    predictions = model.predict(X_test)\n",
    "    predictions_train = model.predict(X_train)\n",
    "    r2_test = r2_score(y_test, predictions)\n",
    "    mse_test = mean_squared_error(y_test, predictions)\n",
    "    r2_train = r2_score(y_train, predictions_train)\n",
    "    mse_train = mean_squared_error(y_train, predictions_train)\n",
    "    return r2_test, mse_test, r2_train, mse_train"
   ]
  },
  {
   "cell_type": "code",
   "execution_count": 146,
   "metadata": {
    "scrolled": true
   },
   "outputs": [],
   "source": [
    "##2* cars_functions.\n",
    "r2_test_rf =[]\n",
    "mse_test_rf =[]\n",
    "r2_train_rf =[]\n",
    "mse_train_rf =[]\n",
    "ind=np.arange(7,30) \n",
    "\n",
    "for i in ind:\n",
    "    cols=get_top_vars(rf, i, X)\n",
    "    rf_i=RandomForestRegressor(**rf.get_params())\n",
    "    performance=build_classifier(rf_i, X_train[:,cols], y_train, X_test[:,cols], y_test)\n",
    "    r2_test_rf.append(performance[0])\n",
    "    mse_test_rf.append(performance[1])\n",
    "    r2_train_rf.append(performance[2])\n",
    "    mse_train_rf.append(performance[3])"
   ]
  },
  {
   "cell_type": "code",
   "execution_count": 147,
   "metadata": {},
   "outputs": [
    {
     "data": {
      "image/png": "[encoded data removed]",
      "text/plain": [
       "<Figure size 864x360 with 2 Axes>"
      ]
     },
     "metadata": {
      "needs_background": "light"
     },
     "output_type": "display_data"
    }
   ],
   "source": [
    "fig, ax = plt.subplots(1,2,figsize=(12,5))\n",
    "\n",
    "ax[0].plot(ind, r2_test_rf, 'b', label='Test error')\n",
    "ax[0].plot(ind, r2_train_rf, 'r', label='Training error')\n",
    "ax[0].legend()\n",
    "ax[1].plot(ind, mse_test_rf, 'b', label='Test error')\n",
    "ax[1].plot(ind, mse_train_rf, 'r', label='Training error')\n",
    "ax[1].legend()\n",
    "ax[0].set_xlabel('Number of variables')\n",
    "ax[1].set_xlabel('Number of variables')\n",
    "ax[0].set_ylabel('$R^2$') \n",
    "ax[1].set_ylabel('MSE')\n",
    "ax[0].set_title('R2')\n",
    "ax[1].set_title('MSE')\n",
    "fig.suptitle('Performance of Random Forest')\n",
    "plt.tight_layout()\n",
    "plt.show()"
   ]
  },
  {
   "cell_type": "markdown",
   "metadata": {},
   "source": [
    "Choosing the best 14 variables would be enough"
   ]
  },
  {
   "cell_type": "markdown",
   "metadata": {},
   "source": [
    "### 3.9. AdaBoost with less variables"
   ]
  },
  {
   "cell_type": "code",
   "execution_count": 129,
   "metadata": {},
   "outputs": [],
   "source": [
    "##2* cars_functions.\n",
    "r2_test_boost =[]\n",
    "mse_test_boost =[]\n",
    "r2_train_boost =[]\n",
    "mse_train_boost =[]\n",
    "ind=np.arange(7,30) \n",
    "\n",
    "for i in ind:\n",
    "    cols=get_top_vars(boost, i, X)\n",
    "    \n",
    "    boost_i=AdaBoostRegressor(dtree, n_estimators=18)\n",
    "    performance=build_classifier(boost_i, X_train[:,cols], y_train, X_test[:,cols], y_test)\n",
    "    r2_test_boost.append(performance[0])\n",
    "    mse_test_boost.append(performance[1])\n",
    "    r2_train_boost.append(performance[2])\n",
    "    mse_train_boost.append(performance[3])\n"
   ]
  },
  {
   "cell_type": "code",
   "execution_count": 89,
   "metadata": {},
   "outputs": [
    {
     "data": {
      "image/png": "[encoded data removed]",
      "text/plain": [
       "<Figure size 864x360 with 2 Axes>"
      ]
     },
     "metadata": {
      "needs_background": "light"
     },
     "output_type": "display_data"
    }
   ],
   "source": [
    "##2* cars_functions.\n",
    "fig, ax = plt.subplots(1,2,figsize=(12,5))\n",
    "\n",
    "ax[0].plot(ind, r2_test_boost, 'b', label='Test error')\n",
    "ax[0].plot(ind, r2_train_boost, 'r', label='Training error')\n",
    "ax[0].legend()\n",
    "ax[1].plot(ind, mse_test_boost, 'b', label='Test error')\n",
    "ax[1].plot(ind, mse_train_boost, 'r', label='Training error')\n",
    "ax[1].legend()\n",
    "ax[0].set_xlabel('Number of variables')\n",
    "ax[1].set_xlabel('Number of variables')\n",
    "ax[0].set_ylabel(r'$\\R^2')\n",
    "ax[1].set_ylabel('MSE')\n",
    "ax[0].set_title('R2')\n",
    "ax[1].set_title('MSE')\n",
    "fig.suptitle('Performance of AdaBoost')\n",
    "plt.tight_layout()\n",
    "plt.show()"
   ]
  },
  {
   "cell_type": "markdown",
   "metadata": {},
   "source": [
    "It is enough to choose the best 9 variables  -> model's performance won't improve more, if we add more variables."
   ]
  },
  {
   "cell_type": "markdown",
   "metadata": {},
   "source": [
    "### 4. Fitting the final model"
   ]
  },
  {
   "cell_type": "code",
   "execution_count": 169,
   "metadata": {},
   "outputs": [
    {
     "name": "stdout",
     "output_type": "stream",
     "text": [
      "\n",
      "==================================================================================\n",
      "Testing AdaBoostRegressor\n",
      "Learing time 3.7307310104370117s\n",
      "Predicting time 0.3674609661102295s\n",
      "=================================== Results Training set======================================\n",
      "         bias\n",
      "MSE       2914509.212691581\n",
      "R2        0.9576412718043594\n",
      "=================================== Results Testing set======================================\n",
      "         bias\n",
      "MSE       4518149.482614393\n",
      "R2        0.935312471968348\n",
      "===================================================================================\n"
     ]
    },
    {
     "data": {
      "text/plain": [
       "AdaBoostRegressor(base_estimator=DecisionTreeRegressor(criterion='mse', max_depth=10, max_features='auto',\n",
       "           max_leaf_nodes=None, min_impurity_decrease=0.0,\n",
       "           min_impurity_split=None, min_samples_leaf=30,\n",
       "           min_samples_split=50, min_weight_fraction_leaf=0.0,\n",
       "           presort=False, random_state=None, splitter='best'),\n",
       "         learning_rate=1.0, loss='linear', n_estimators=18,\n",
       "         random_state=None)"
      ]
     },
     "execution_count": 169,
     "metadata": {},
     "output_type": "execute_result"
    }
   ],
   "source": [
    "cols=get_top_vars(boost, 9, X)\n",
    "boost = AdaBoostRegressor(dtree, n_estimators=18)\n",
    "cars_functions.test_classifier(X_train[:,cols], y_train, X_test[:,cols], y_test, boost)"
   ]
  },
  {
   "cell_type": "code",
   "execution_count": 170,
   "metadata": {},
   "outputs": [
    {
     "data": {
      "text/plain": [
       "Index(['Age_year_final', 'Performance_kW_final', 'Speedometer_final',\n",
       "       'Price_avg', 'WeightTotal_final', 'Capacity_final', 'Flag_back_w',\n",
       "       'Luggagerack_final', 'MERCEDES-BENZ'],\n",
       "      dtype='object')"
      ]
     },
     "execution_count": 170,
     "metadata": {},
     "output_type": "execute_result"
    }
   ],
   "source": [
    "#the features\n",
    "X.iloc[:,cols].columns"
   ]
  },
  {
   "cell_type": "markdown",
   "metadata": {},
   "source": [
    "### 4.1 Exporting the model"
   ]
  },
  {
   "cell_type": "code",
   "execution_count": 171,
   "metadata": {},
   "outputs": [],
   "source": [
    "# save the model to disk\n",
    "filename ='adaboost.sav'\n",
    "pickle.dump(boost, open(filename, 'wb'))"
   ]
  },
  {
   "cell_type": "markdown",
   "metadata": {},
   "source": [
    "#### 4.2. Exporting the StandardScaler for the final variables"
   ]
  },
  {
   "cell_type": "code",
   "execution_count": 172,
   "metadata": {},
   "outputs": [
    {
     "data": {
      "text/plain": [
       "StandardScaler(copy=True, with_mean=True, with_std=True)"
      ]
     },
     "execution_count": 172,
     "metadata": {},
     "output_type": "execute_result"
    }
   ],
   "source": [
    "X_top_final= X.iloc[:,cols]\n",
    "scaler_final=StandardScaler()\n",
    "scaler_final.fit(X_top_final)"
   ]
  },
  {
   "cell_type": "code",
   "execution_count": 173,
   "metadata": {},
   "outputs": [],
   "source": [
    "scaler_filename = \"scaler.sav\"\n",
    "pickle.dump(scaler_final, open(scaler_filename, 'wb')) "
   ]
  },
  {
   "cell_type": "markdown",
   "metadata": {},
   "source": [
    "### 5. Use the model"
   ]
  },
  {
   "cell_type": "code",
   "execution_count": 2,
   "metadata": {},
   "outputs": [
    {
     "data": {
      "text/plain": [
       "array([3402.54867257])"
      ]
     },
     "execution_count": 2,
     "metadata": {},
     "output_type": "execute_result"
    }
   ],
   "source": [
    "model=pickle.load(open('adaboost.sav', 'rb')) \n",
    "scaler_model=pickle.load(open('scaler.sav', 'rb')) \n",
    "cars_functions.calc_price(scaler_model, model, 'OPEL CORSA', 11, 55, 190000, 1545,1248, 0, 285)"
   ]
  }
 ],
 "metadata": {
  "anaconda-cloud": {},
  "kernelspec": {
   "display_name": "Python [conda root]",
   "language": "python",
   "name": "conda-root-py"
  },
  "language_info": {
   "codemirror_mode": {
    "name": "ipython",
    "version": 3
   },
   "file_extension": ".py",
   "mimetype": "text/x-python",
   "name": "python",
   "nbconvert_exporter": "python",
   "pygments_lexer": "ipython3",
   "version": "3.5.6"
  }
 },
 "nbformat": 4,
 "nbformat_minor": 1
}
